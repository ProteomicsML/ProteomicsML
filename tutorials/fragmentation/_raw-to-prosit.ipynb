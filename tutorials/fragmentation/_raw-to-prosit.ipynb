{
 "cells": [
  {
   "cell_type": "markdown",
   "metadata": {},
   "source": [
    "---\n",
    "title: \"Raw file processing with PROSIT style annotation\"\n",
    "\n",
    "date: last-modified\n",
    "\n",
    "author:\n",
    "\n",
    "- name: Tobias Greisager Rehfeldt\n",
    "\n",
    "  orcid: 0000-0002-1190-9485\n",
    "\n",
    "  affiliations:\n",
    "    - University of Southern Denmark, Odense\n",
    "    - Department of Natural Science, Institute for Mathematics and Computer Science\n",
    "\n",
    "---\n",
    "\n",
    "[![Open In Colab](https://colab.research.google.com/assets/colab-badge.svg)](https://colab.research.google.com/github/ProteomicsML/ProteomicsML/blob/main/tutorials/fragmentation/_raw_to_prosit.ipynb)\n"
   ]
  },
  {
   "cell_type": "markdown",
   "metadata": {},
   "source": [
    "This notebook contains the simplest steps to turn any raw data into a format thats fragmentation prediction ready. This notebook retrieve a ProteomeTools file from PRIDE to make it as easy to copy as possible, but retrieving the files might take time.\n",
    "\n",
    "This method uses the MaxQuant file to get the modified sequence, charge, and scan number.\n",
    "It then uses fisher_py to interact with the raw files and retrieve the ms2 scans and the mass analyzer.\n",
    "\n",
    "The annotation pipeline comes from the TUM annotation github"
   ]
  },
  {
   "cell_type": "code",
   "execution_count": null,
   "metadata": {},
   "outputs": [],
   "source": [
    "%%capture\n",
    "# We need conda to interact with the raw file\n",
    "!pip install -q condacolab\n",
    "import condacolab\n",
    "condacolab.install()\n",
    "!conda install pythonnet\n",
    "!pip install fisher_py\n",
    "!pip install fundamentals@git+https://github.com/wilhelm-lab/spectrum_fundamentals@proteomicsml"
   ]
  },
  {
   "cell_type": "code",
   "execution_count": null,
   "metadata": {},
   "outputs": [],
   "source": [
    "!wget https://ftp.pride.ebi.ac.uk/pride/data/archive/2017/02/PXD004732/01625b_GA1-TUM_first_pool_1_01_01-DDA-1h-R2.raw \n",
    "!wget https://ftp.pride.ebi.ac.uk/pride/data/archive/2017/02/PXD004732/TUM_first_pool_1_01_01_DDA-1h-R2-tryptic.zip"
   ]
  },
  {
   "cell_type": "code",
   "execution_count": null,
   "metadata": {},
   "outputs": [],
   "source": [
    "from zipfile import ZipFile\n",
    "import pandas as pd\n",
    "with ZipFile(f'TUM_first_pool_1_01_01_DDA-1h-R2-tryptic.zip', 'r') as zip_file:\n",
    "  msms = pd.read_csv(zip_file.open('msms.txt'), sep='\\t')\n",
    "# Current PROSIT pipeline does not accomodate modified peptides, so we remove all of the oxidized peptides\n",
    "msms = msms[msms['Modifications'] == 'Unmodified']"
   ]
  },
  {
   "cell_type": "code",
   "execution_count": null,
   "metadata": {},
   "outputs": [],
   "source": [
    "from fisher_py import RawFile\n",
    "raw = RawFile('01625b_GA1-TUM_first_pool_1_01_01-DDA-1h-R2.raw')\n",
    "# Get the scan numbers from the msms file and save the scan + info in a dictionary\n",
    "from fisher_py.data.business import Scan\n",
    "import numpy as np\n",
    "scan_mzs = []\n",
    "scan_ints = []\n",
    "scan_mass_analyzers = []\n",
    "scan_collison_energy = []\n",
    "for scan in msms['Scan number']:\n",
    "  raw_scan = Scan.from_file(raw._raw_file_access, scan)\n",
    "  scan_mzs.append(np.array(raw_scan.preferred_masses))\n",
    "  scan_ints.append(np.array(raw_scan.preferred_intensities))\n",
    "  scan_mass_analyzers.append(raw_scan.scan_type.split(' + ')[0])\n",
    "  frag_infos = [f.split(' ')[0] for f in raw_scan.scan_type.split('@')[1:]]\n",
    "  splits = [[i for i, g in enumerate(f) if g.isnumeric()][0] for f in frag_infos]\n",
    "  NCEs = [float(frag[split:]) for split, frag in zip(splits, frag_infos)]\n",
    "  scan_collison_energy.append(NCEs[0])"
   ]
  },
  {
   "cell_type": "markdown",
   "metadata": {},
   "source": [
    "We need to create a sub-set of the MaxQuant dataframe that we can insert into the annotation pipeline. For this we need the have 6 columns (with specific names): MODIFIED_SEQUENCE, PERCURSOR_CHARGE, MASS_ANALYZER, SCAN_NUMBER, MZ, INTENSITIES"
   ]
  },
  {
   "cell_type": "code",
   "execution_count": null,
   "metadata": {},
   "outputs": [],
   "source": [
    "annotation_df = pd.DataFrame(msms[['Modified sequence', 'Charge', 'Scan number']].values, columns=['MODIFIED_SEQUENCE', 'PRECURSOR_CHARGE', 'SCAN_NUMBER'])\n",
    "annotation_df['MZ'] = scan_mzs\n",
    "annotation_df['INTENSITIES'] = scan_ints\n",
    "annotation_df['MASS_ANALYZER'] = scan_mass_analyzers\n",
    "annotation_df['COLLISION_ENERGY'] = scan_collison_energy\n",
    "\n",
    "from fundamentals.mod_string import maxquant_to_internal\n",
    "annotation_df['MODIFIED_SEQUENCE'] = maxquant_to_internal(annotation_df['MODIFIED_SEQUENCE'].values)\n",
    "\n",
    "from fundamentals.annotation.annotation import annotate_spectra\n",
    "annotation = annotate_spectra(annotation_df)"
   ]
  },
  {
   "cell_type": "markdown",
   "metadata": {},
   "source": [
    "The annotation element contains the annotated intensities nad m/zs, along with the theoretical mass and removed peaks "
   ]
  },
  {
   "cell_type": "code",
   "execution_count": null,
   "metadata": {},
   "outputs": [],
   "source": [
    "annotation "
   ]
  },
  {
   "cell_type": "markdown",
   "metadata": {},
   "source": [
    "Now we need to combined the necessary information from MaxQuant and the annotation package into a DataFrame mimicing the one found in the \"Prosit-style GRU with ProteomeTools data\" found here (https://www.proteomicsml.org/tutorials/fragmentation/proteometools-prosit.html) for an easy handover"
   ]
  },
  {
   "cell_type": "code",
   "execution_count": null,
   "metadata": {},
   "outputs": [],
   "source": [
    "PROSIT_ALHABET = {\n",
    "    \"A\": 1,\n",
    "    \"C\": 2,\n",
    "    \"D\": 3,\n",
    "    \"E\": 4,\n",
    "    \"F\": 5,\n",
    "    \"G\": 6,\n",
    "    \"H\": 7,\n",
    "    \"I\": 8,\n",
    "    \"K\": 9,\n",
    "    \"L\": 10,\n",
    "    \"M\": 11,\n",
    "    \"N\": 12,\n",
    "    \"P\": 13,\n",
    "    \"Q\": 14,\n",
    "    \"R\": 15,\n",
    "    \"S\": 16,\n",
    "    \"T\": 17,\n",
    "    \"V\": 18,\n",
    "    \"W\": 19,\n",
    "    \"Y\": 20,\n",
    "    \"M(ox)\": 21,\n",
    "}\n",
    "sequence_integer = [[PROSIT_ALHABET[AA] for AA in sequence] for sequence in msms['Sequence']]\n",
    "precursor_charge_onehot = pd.get_dummies(msms['Charge']).values\n",
    "collision_energy_aligned_normed = annotation_df['COLLISION_ENERGY']\n",
    "intensities_raw = annotation['INTENSITIES']"
   ]
  },
  {
   "cell_type": "code",
   "execution_count": null,
   "metadata": {},
   "outputs": [],
   "source": [
    "df = pd.DataFrame(list(zip(sequence_integer, precursor_charge_onehot, collision_energy_aligned_normed, intensities_raw)), \n",
    "                  columns=['sequence_integer', 'precursor_charge_onehot', 'collision_energy', 'intensities_raw'])\n",
    "df"
   ]
  }
 ],
 "metadata": {
  "kernelspec": {
   "display_name": "python3",
   "name": "python3"
  }
 },
 "nbformat": 4,
 "nbformat_minor": 0
}
