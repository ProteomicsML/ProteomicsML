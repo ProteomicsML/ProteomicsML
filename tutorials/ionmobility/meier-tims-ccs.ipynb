{
 "cells": [
  {
   "cell_type": "markdown",
   "id": "11aa1723",
   "metadata": {},
   "source": [
    "---\n",
    "title: \"Predicting CCS values for TIMS data\"\n",
    "\n",
    "date: last-modified\n",
    "\n",
    "author:\n",
    "\n",
    "- name: Robbin Bouwmeester\n",
    "\n",
    "  orcid: 0000-0001-6807-7029\n",
    "\n",
    "  affiliations:\n",
    "    - VIB-UGent Center for Medical Biotechnology, VIB, Belgium\n",
    "    - Department of Biomolecular Medicine, Ghent University, Belgium\n",
    "\n",
    "---\n",
    "\n",
    "[![](https://colab.research.google.com/assets/colab-badge.svg){fig-align=\"left\"}](https://colab.research.google.com/github/ProteomicsML/ProteomicsML/blob/main/tutorials/ionmobility/_meier-tims-ccs.ipynb)"
   ]
  },
  {
   "cell_type": "markdown",
   "id": "48c6cd3d",
   "metadata": {},
   "source": [
    "## Introduction\n",
    "\n",
    "Ion mobility is a technique to separate ionized analytes based on their size, shape, and physicochemical properties. Initially the techniques for ion mobility propelled the ions with an electric field through a cell with inert gas. The ions collide with the inert gas without fragmentation. Separation is achieved by propelling the ions faster or slower in the electric field (i.e., based on their charge) and are slowed down by the collisions with the gas (i.e., based on shape and size). Trapped ion mobility (TIMS) reverses this operation by trapping the ions in an electric field and forcing them forward by collision with the gas. From any of the different ion mobility techniques you are able to derive the collisional cross section (CCS) in Angstrom squared. In this notebook you can follow a short tutorial on how to train a Machine Learning model for the prediction of these CCS values."
   ]
  },
  {
   "cell_type": "code",
   "execution_count": 183,
   "id": "db9040cf",
   "metadata": {},
   "outputs": [],
   "source": [
    "import pandas as pd\n",
    "from matplotlib import pyplot as plt\n",
    "from collections import Counter\n",
    "from scipy.stats import pearsonr\n",
    "\n",
    "vol_dict = {\"A\" : 88.6,\n",
    "            \"B\" : 0.0,\n",
    "            \"O\" : 0.0,\n",
    "            \"X\" : 0.0,\n",
    "            \"J\" : 0.0,\n",
    "            \"R\" : 173.4,\n",
    "            \"N\" : 114.1,\n",
    "            \"D\" : 111.1,\n",
    "            \"C\" : 108.5,\n",
    "            \"Q\" : 143.8,\n",
    "            \"E\" : 138.4,\n",
    "            \"G\" : 60.1,\n",
    "            \"H\" : 153.2,\n",
    "            \"I\" : 166.7,\n",
    "            \"L\" : 166.7,\n",
    "            \"K\" : 168.6,\n",
    "            \"M\" : 162.9,\n",
    "            \"F\" : 189.9,\n",
    "            \"P\" : 112.7,\n",
    "            \"S\" : 89.0,\n",
    "            \"T\" : 116.1,\n",
    "            \"W\" : 227.8,\n",
    "            \"Y\" : 193.6,\n",
    "            \"V\" : 140}\n",
    "\n",
    "aa_to_pos = dict(zip(vol_dict.keys(),range(len(vol_dict.keys()))))"
   ]
  },
  {
   "cell_type": "markdown",
   "id": "9779d83a",
   "metadata": {},
   "source": [
    "## Data reading and preparation"
   ]
  },
  {
   "cell_type": "markdown",
   "id": "a2f7fcd9",
   "metadata": {},
   "source": [
    "Read the training data from [Meier et al.](https://doi.org/10.1038/s41467-021-21352-8)"
   ]
  },
  {
   "cell_type": "code",
   "execution_count": 184,
   "id": "6b42e744",
   "metadata": {},
   "outputs": [],
   "source": [
    "ccs_df = pd.read_csv(\"https://github.com/ProteomicsML/IonMobility/blob/main/datasets/Meier_IM_CCS/combined_sm.zip?raw=true\", compression=\"zip\", index_col=0)"
   ]
  },
  {
   "cell_type": "markdown",
   "id": "0aaf8314",
   "metadata": {},
   "source": [
    "Execute the cell below to read a smaller data set from [Van Puyvelde et al.](https://www.nature.com/articles/s41597-022-01216-6). Remove all the \"#\" to read this smaller data set. On for example colab it is recommended to load this smaller data set. Please do note that the description is based on the larger data set. It is expected that more complex models do not benefit at the same rate from the smaller data set (e.g., the deep learning network). Hans Vissers from Waters analyzed this traveling wave IM data:"
   ]
  },
  {
   "cell_type": "code",
   "execution_count": 185,
   "id": "1e6b9b66",
   "metadata": {},
   "outputs": [],
   "source": [
    "#ccs_df = pd.read_csv(\n",
    "#    \"https://raw.githubusercontent.com/ProteomicsML/IonMobility/main/datasets/VanPuyvelde_TWIMS_CCS/TWIMSpeptideCCS.tsv\",\n",
    "#    low_memory=False,\n",
    "#    sep=\"\\t\"\n",
    "#)"
   ]
  },
  {
   "cell_type": "markdown",
   "id": "8ad1dffa",
   "metadata": {},
   "source": [
    "A small summarization of the data that was just read:"
   ]
  },
  {
   "cell_type": "code",
   "execution_count": 186,
   "id": "83646355",
   "metadata": {},
   "outputs": [
    {
     "data": {
      "text/html": [
       "<div>\n",
       "<style scoped>\n",
       "    .dataframe tbody tr th:only-of-type {\n",
       "        vertical-align: middle;\n",
       "    }\n",
       "\n",
       "    .dataframe tbody tr th {\n",
       "        vertical-align: top;\n",
       "    }\n",
       "\n",
       "    .dataframe thead th {\n",
       "        text-align: right;\n",
       "    }\n",
       "</style>\n",
       "<table border=\"1\" class=\"dataframe\">\n",
       "  <thead>\n",
       "    <tr style=\"text-align: right;\">\n",
       "      <th></th>\n",
       "      <th>Charge</th>\n",
       "      <th>Mass</th>\n",
       "      <th>Intensity</th>\n",
       "      <th>Retention time</th>\n",
       "      <th>CCS</th>\n",
       "    </tr>\n",
       "  </thead>\n",
       "  <tbody>\n",
       "    <tr>\n",
       "      <th>count</th>\n",
       "      <td>718917.000000</td>\n",
       "      <td>718917.000000</td>\n",
       "      <td>7.189170e+05</td>\n",
       "      <td>718917.000000</td>\n",
       "      <td>718917.000000</td>\n",
       "    </tr>\n",
       "    <tr>\n",
       "      <th>mean</th>\n",
       "      <td>2.376747</td>\n",
       "      <td>1829.771049</td>\n",
       "      <td>6.716163e+05</td>\n",
       "      <td>300.215311</td>\n",
       "      <td>475.545205</td>\n",
       "    </tr>\n",
       "    <tr>\n",
       "      <th>std</th>\n",
       "      <td>0.582843</td>\n",
       "      <td>606.256496</td>\n",
       "      <td>2.139819e+06</td>\n",
       "      <td>940.711797</td>\n",
       "      <td>109.083740</td>\n",
       "    </tr>\n",
       "    <tr>\n",
       "      <th>min</th>\n",
       "      <td>2.000000</td>\n",
       "      <td>696.428259</td>\n",
       "      <td>2.790800e+02</td>\n",
       "      <td>0.004795</td>\n",
       "      <td>275.418854</td>\n",
       "    </tr>\n",
       "    <tr>\n",
       "      <th>25%</th>\n",
       "      <td>2.000000</td>\n",
       "      <td>1361.766700</td>\n",
       "      <td>5.405700e+04</td>\n",
       "      <td>28.260000</td>\n",
       "      <td>392.076630</td>\n",
       "    </tr>\n",
       "    <tr>\n",
       "      <th>50%</th>\n",
       "      <td>2.000000</td>\n",
       "      <td>1729.834520</td>\n",
       "      <td>1.655000e+05</td>\n",
       "      <td>50.624000</td>\n",
       "      <td>454.656281</td>\n",
       "    </tr>\n",
       "    <tr>\n",
       "      <th>75%</th>\n",
       "      <td>3.000000</td>\n",
       "      <td>2189.009920</td>\n",
       "      <td>5.357000e+05</td>\n",
       "      <td>84.241000</td>\n",
       "      <td>534.702698</td>\n",
       "    </tr>\n",
       "    <tr>\n",
       "      <th>max</th>\n",
       "      <td>4.000000</td>\n",
       "      <td>4599.284130</td>\n",
       "      <td>2.481000e+08</td>\n",
       "      <td>6897.700000</td>\n",
       "      <td>1118.786133</td>\n",
       "    </tr>\n",
       "  </tbody>\n",
       "</table>\n",
       "</div>"
      ],
      "text/plain": [
       "              Charge           Mass     Intensity  Retention time  \\\n",
       "count  718917.000000  718917.000000  7.189170e+05   718917.000000   \n",
       "mean        2.376747    1829.771049  6.716163e+05      300.215311   \n",
       "std         0.582843     606.256496  2.139819e+06      940.711797   \n",
       "min         2.000000     696.428259  2.790800e+02        0.004795   \n",
       "25%         2.000000    1361.766700  5.405700e+04       28.260000   \n",
       "50%         2.000000    1729.834520  1.655000e+05       50.624000   \n",
       "75%         3.000000    2189.009920  5.357000e+05       84.241000   \n",
       "max         4.000000    4599.284130  2.481000e+08     6897.700000   \n",
       "\n",
       "                 CCS  \n",
       "count  718917.000000  \n",
       "mean      475.545205  \n",
       "std       109.083740  \n",
       "min       275.418854  \n",
       "25%       392.076630  \n",
       "50%       454.656281  \n",
       "75%       534.702698  \n",
       "max      1118.786133  "
      ]
     },
     "execution_count": 186,
     "metadata": {},
     "output_type": "execute_result"
    }
   ],
   "source": [
    "ccs_df.describe()"
   ]
  },
  {
   "cell_type": "code",
   "execution_count": 187,
   "id": "6f13c77e",
   "metadata": {},
   "outputs": [
    {
     "data": {
      "text/html": [
       "<div>\n",
       "<style scoped>\n",
       "    .dataframe tbody tr th:only-of-type {\n",
       "        vertical-align: middle;\n",
       "    }\n",
       "\n",
       "    .dataframe tbody tr th {\n",
       "        vertical-align: top;\n",
       "    }\n",
       "\n",
       "    .dataframe thead th {\n",
       "        text-align: right;\n",
       "    }\n",
       "</style>\n",
       "<table border=\"1\" class=\"dataframe\">\n",
       "  <thead>\n",
       "    <tr style=\"text-align: right;\">\n",
       "      <th></th>\n",
       "      <th>Modified sequence</th>\n",
       "      <th>Charge</th>\n",
       "      <th>Mass</th>\n",
       "      <th>Intensity</th>\n",
       "      <th>Retention time</th>\n",
       "      <th>CCS</th>\n",
       "      <th>PT</th>\n",
       "    </tr>\n",
       "  </thead>\n",
       "  <tbody>\n",
       "    <tr>\n",
       "      <th>0</th>\n",
       "      <td>_(ac)AAAAAAAAAAGAAGGR_</td>\n",
       "      <td>2</td>\n",
       "      <td>1239.63200</td>\n",
       "      <td>149810.0</td>\n",
       "      <td>70.140</td>\n",
       "      <td>409.092529</td>\n",
       "      <td>False</td>\n",
       "    </tr>\n",
       "    <tr>\n",
       "      <th>1</th>\n",
       "      <td>_(ac)AAAAAAAAEQQSSNGPVKK_</td>\n",
       "      <td>2</td>\n",
       "      <td>1810.91734</td>\n",
       "      <td>21349.0</td>\n",
       "      <td>19.645</td>\n",
       "      <td>481.229248</td>\n",
       "      <td>True</td>\n",
       "    </tr>\n",
       "    <tr>\n",
       "      <th>2</th>\n",
       "      <td>_(ac)AAAAAAAGAAGSAAPAAAAGAPGSGGAPSGSQGVLIGDR_</td>\n",
       "      <td>3</td>\n",
       "      <td>3144.55482</td>\n",
       "      <td>194000.0</td>\n",
       "      <td>3947.700</td>\n",
       "      <td>772.098083</td>\n",
       "      <td>False</td>\n",
       "    </tr>\n",
       "    <tr>\n",
       "      <th>3</th>\n",
       "      <td>_(ac)AAAAAAAGDSDSWDADAFSVEDPVRK_</td>\n",
       "      <td>2</td>\n",
       "      <td>2634.18340</td>\n",
       "      <td>6416400.0</td>\n",
       "      <td>94.079</td>\n",
       "      <td>573.213196</td>\n",
       "      <td>False</td>\n",
       "    </tr>\n",
       "    <tr>\n",
       "      <th>4</th>\n",
       "      <td>_(ac)AAAAAAAGDSDSWDADAFSVEDPVRK_</td>\n",
       "      <td>3</td>\n",
       "      <td>2634.18340</td>\n",
       "      <td>5400600.0</td>\n",
       "      <td>94.841</td>\n",
       "      <td>635.000549</td>\n",
       "      <td>False</td>\n",
       "    </tr>\n",
       "    <tr>\n",
       "      <th>...</th>\n",
       "      <td>...</td>\n",
       "      <td>...</td>\n",
       "      <td>...</td>\n",
       "      <td>...</td>\n",
       "      <td>...</td>\n",
       "      <td>...</td>\n",
       "      <td>...</td>\n",
       "    </tr>\n",
       "    <tr>\n",
       "      <th>718912</th>\n",
       "      <td>_YYYVCQYCPAGNNM(ox)NR_</td>\n",
       "      <td>2</td>\n",
       "      <td>2087.82880</td>\n",
       "      <td>131230.0</td>\n",
       "      <td>21.753</td>\n",
       "      <td>461.667145</td>\n",
       "      <td>True</td>\n",
       "    </tr>\n",
       "    <tr>\n",
       "      <th>718913</th>\n",
       "      <td>_YYYVCQYCPAGNWANR_</td>\n",
       "      <td>2</td>\n",
       "      <td>2083.86690</td>\n",
       "      <td>84261.0</td>\n",
       "      <td>28.752</td>\n",
       "      <td>459.721191</td>\n",
       "      <td>True</td>\n",
       "    </tr>\n",
       "    <tr>\n",
       "      <th>718914</th>\n",
       "      <td>_YYYVPADFVEYEK_</td>\n",
       "      <td>2</td>\n",
       "      <td>1684.76609</td>\n",
       "      <td>382810.0</td>\n",
       "      <td>92.273</td>\n",
       "      <td>436.103699</td>\n",
       "      <td>False</td>\n",
       "    </tr>\n",
       "    <tr>\n",
       "      <th>718915</th>\n",
       "      <td>_YYYVQNVYTPVDEHVYPDHR_</td>\n",
       "      <td>3</td>\n",
       "      <td>2556.17099</td>\n",
       "      <td>30113.0</td>\n",
       "      <td>26.381</td>\n",
       "      <td>580.297058</td>\n",
       "      <td>True</td>\n",
       "    </tr>\n",
       "    <tr>\n",
       "      <th>718916</th>\n",
       "      <td>_YYYVQNVYTPVDEHVYPDHR_</td>\n",
       "      <td>4</td>\n",
       "      <td>2556.17099</td>\n",
       "      <td>33682.0</td>\n",
       "      <td>26.381</td>\n",
       "      <td>691.901123</td>\n",
       "      <td>True</td>\n",
       "    </tr>\n",
       "  </tbody>\n",
       "</table>\n",
       "<p>718917 rows × 7 columns</p>\n",
       "</div>"
      ],
      "text/plain": [
       "                                    Modified sequence  Charge        Mass  \\\n",
       "0                              _(ac)AAAAAAAAAAGAAGGR_       2  1239.63200   \n",
       "1                           _(ac)AAAAAAAAEQQSSNGPVKK_       2  1810.91734   \n",
       "2       _(ac)AAAAAAAGAAGSAAPAAAAGAPGSGGAPSGSQGVLIGDR_       3  3144.55482   \n",
       "3                    _(ac)AAAAAAAGDSDSWDADAFSVEDPVRK_       2  2634.18340   \n",
       "4                    _(ac)AAAAAAAGDSDSWDADAFSVEDPVRK_       3  2634.18340   \n",
       "...                                               ...     ...         ...   \n",
       "718912                         _YYYVCQYCPAGNNM(ox)NR_       2  2087.82880   \n",
       "718913                             _YYYVCQYCPAGNWANR_       2  2083.86690   \n",
       "718914                                _YYYVPADFVEYEK_       2  1684.76609   \n",
       "718915                         _YYYVQNVYTPVDEHVYPDHR_       3  2556.17099   \n",
       "718916                         _YYYVQNVYTPVDEHVYPDHR_       4  2556.17099   \n",
       "\n",
       "        Intensity  Retention time         CCS     PT  \n",
       "0        149810.0          70.140  409.092529  False  \n",
       "1         21349.0          19.645  481.229248   True  \n",
       "2        194000.0        3947.700  772.098083  False  \n",
       "3       6416400.0          94.079  573.213196  False  \n",
       "4       5400600.0          94.841  635.000549  False  \n",
       "...           ...             ...         ...    ...  \n",
       "718912   131230.0          21.753  461.667145   True  \n",
       "718913    84261.0          28.752  459.721191   True  \n",
       "718914   382810.0          92.273  436.103699  False  \n",
       "718915    30113.0          26.381  580.297058   True  \n",
       "718916    33682.0          26.381  691.901123   True  \n",
       "\n",
       "[718917 rows x 7 columns]"
      ]
     },
     "execution_count": 187,
     "metadata": {},
     "output_type": "execute_result"
    }
   ],
   "source": [
    "ccs_df"
   ]
  },
  {
   "cell_type": "markdown",
   "id": "b64d336e",
   "metadata": {},
   "source": [
    "Prepare the data to not contain any \\\"_\\\" characters or modifications in between \\[ \\]:"
   ]
  },
  {
   "cell_type": "code",
   "execution_count": 188,
   "id": "beef281b",
   "metadata": {},
   "outputs": [],
   "source": [
    "# Strip \"_\" from sequence\n",
    "ccs_df[\"sequence\"] = ccs_df[\"Modified sequence\"].str.strip(\"_\")\n",
    "\n",
    "# Strip everything between \"()\" and \"[]\" from sequence\n",
    "ccs_df[\"sequence\"] = ccs_df[\"sequence\"].str.replace(r\"[\\(\\[].*?[\\)\\]]\", \"\", regex=True)"
   ]
  },
  {
   "cell_type": "markdown",
   "id": "d502058f",
   "metadata": {},
   "source": [
    "Count the occurence of amino acids, those that did not get detected; repace with 0"
   ]
  },
  {
   "cell_type": "code",
   "execution_count": 189,
   "id": "96b56e8c",
   "metadata": {},
   "outputs": [],
   "source": [
    "# Apply counter to each sequence, fill NA with 0.0, make matrix from counts\n",
    "X_matrix_count = pd.DataFrame(ccs_df[\"sequence\"].apply(Counter).to_dict()).fillna(0.0).T"
   ]
  },
  {
   "cell_type": "code",
   "execution_count": 190,
   "id": "6bc40dd6",
   "metadata": {},
   "outputs": [
    {
     "data": {
      "text/html": [
       "<div>\n",
       "<style scoped>\n",
       "    .dataframe tbody tr th:only-of-type {\n",
       "        vertical-align: middle;\n",
       "    }\n",
       "\n",
       "    .dataframe tbody tr th {\n",
       "        vertical-align: top;\n",
       "    }\n",
       "\n",
       "    .dataframe thead th {\n",
       "        text-align: right;\n",
       "    }\n",
       "</style>\n",
       "<table border=\"1\" class=\"dataframe\">\n",
       "  <thead>\n",
       "    <tr style=\"text-align: right;\">\n",
       "      <th></th>\n",
       "      <th>A</th>\n",
       "      <th>G</th>\n",
       "      <th>R</th>\n",
       "      <th>E</th>\n",
       "      <th>Q</th>\n",
       "      <th>S</th>\n",
       "      <th>N</th>\n",
       "      <th>P</th>\n",
       "      <th>V</th>\n",
       "      <th>K</th>\n",
       "      <th>L</th>\n",
       "      <th>I</th>\n",
       "      <th>D</th>\n",
       "      <th>W</th>\n",
       "      <th>F</th>\n",
       "      <th>M</th>\n",
       "      <th>T</th>\n",
       "      <th>C</th>\n",
       "      <th>Y</th>\n",
       "      <th>H</th>\n",
       "    </tr>\n",
       "  </thead>\n",
       "  <tbody>\n",
       "    <tr>\n",
       "      <th>0</th>\n",
       "      <td>12.0</td>\n",
       "      <td>3.0</td>\n",
       "      <td>1.0</td>\n",
       "      <td>0.0</td>\n",
       "      <td>0.0</td>\n",
       "      <td>0.0</td>\n",
       "      <td>0.0</td>\n",
       "      <td>0.0</td>\n",
       "      <td>0.0</td>\n",
       "      <td>0.0</td>\n",
       "      <td>0.0</td>\n",
       "      <td>0.0</td>\n",
       "      <td>0.0</td>\n",
       "      <td>0.0</td>\n",
       "      <td>0.0</td>\n",
       "      <td>0.0</td>\n",
       "      <td>0.0</td>\n",
       "      <td>0.0</td>\n",
       "      <td>0.0</td>\n",
       "      <td>0.0</td>\n",
       "    </tr>\n",
       "    <tr>\n",
       "      <th>1</th>\n",
       "      <td>8.0</td>\n",
       "      <td>1.0</td>\n",
       "      <td>0.0</td>\n",
       "      <td>1.0</td>\n",
       "      <td>2.0</td>\n",
       "      <td>2.0</td>\n",
       "      <td>1.0</td>\n",
       "      <td>1.0</td>\n",
       "      <td>1.0</td>\n",
       "      <td>2.0</td>\n",
       "      <td>0.0</td>\n",
       "      <td>0.0</td>\n",
       "      <td>0.0</td>\n",
       "      <td>0.0</td>\n",
       "      <td>0.0</td>\n",
       "      <td>0.0</td>\n",
       "      <td>0.0</td>\n",
       "      <td>0.0</td>\n",
       "      <td>0.0</td>\n",
       "      <td>0.0</td>\n",
       "    </tr>\n",
       "    <tr>\n",
       "      <th>2</th>\n",
       "      <td>17.0</td>\n",
       "      <td>9.0</td>\n",
       "      <td>1.0</td>\n",
       "      <td>0.0</td>\n",
       "      <td>1.0</td>\n",
       "      <td>4.0</td>\n",
       "      <td>0.0</td>\n",
       "      <td>3.0</td>\n",
       "      <td>1.0</td>\n",
       "      <td>0.0</td>\n",
       "      <td>1.0</td>\n",
       "      <td>1.0</td>\n",
       "      <td>1.0</td>\n",
       "      <td>0.0</td>\n",
       "      <td>0.0</td>\n",
       "      <td>0.0</td>\n",
       "      <td>0.0</td>\n",
       "      <td>0.0</td>\n",
       "      <td>0.0</td>\n",
       "      <td>0.0</td>\n",
       "    </tr>\n",
       "    <tr>\n",
       "      <th>3</th>\n",
       "      <td>9.0</td>\n",
       "      <td>1.0</td>\n",
       "      <td>1.0</td>\n",
       "      <td>1.0</td>\n",
       "      <td>0.0</td>\n",
       "      <td>3.0</td>\n",
       "      <td>0.0</td>\n",
       "      <td>1.0</td>\n",
       "      <td>2.0</td>\n",
       "      <td>1.0</td>\n",
       "      <td>0.0</td>\n",
       "      <td>0.0</td>\n",
       "      <td>5.0</td>\n",
       "      <td>1.0</td>\n",
       "      <td>1.0</td>\n",
       "      <td>0.0</td>\n",
       "      <td>0.0</td>\n",
       "      <td>0.0</td>\n",
       "      <td>0.0</td>\n",
       "      <td>0.0</td>\n",
       "    </tr>\n",
       "    <tr>\n",
       "      <th>4</th>\n",
       "      <td>9.0</td>\n",
       "      <td>1.0</td>\n",
       "      <td>1.0</td>\n",
       "      <td>1.0</td>\n",
       "      <td>0.0</td>\n",
       "      <td>3.0</td>\n",
       "      <td>0.0</td>\n",
       "      <td>1.0</td>\n",
       "      <td>2.0</td>\n",
       "      <td>1.0</td>\n",
       "      <td>0.0</td>\n",
       "      <td>0.0</td>\n",
       "      <td>5.0</td>\n",
       "      <td>1.0</td>\n",
       "      <td>1.0</td>\n",
       "      <td>0.0</td>\n",
       "      <td>0.0</td>\n",
       "      <td>0.0</td>\n",
       "      <td>0.0</td>\n",
       "      <td>0.0</td>\n",
       "    </tr>\n",
       "    <tr>\n",
       "      <th>...</th>\n",
       "      <td>...</td>\n",
       "      <td>...</td>\n",
       "      <td>...</td>\n",
       "      <td>...</td>\n",
       "      <td>...</td>\n",
       "      <td>...</td>\n",
       "      <td>...</td>\n",
       "      <td>...</td>\n",
       "      <td>...</td>\n",
       "      <td>...</td>\n",
       "      <td>...</td>\n",
       "      <td>...</td>\n",
       "      <td>...</td>\n",
       "      <td>...</td>\n",
       "      <td>...</td>\n",
       "      <td>...</td>\n",
       "      <td>...</td>\n",
       "      <td>...</td>\n",
       "      <td>...</td>\n",
       "      <td>...</td>\n",
       "    </tr>\n",
       "    <tr>\n",
       "      <th>718912</th>\n",
       "      <td>1.0</td>\n",
       "      <td>1.0</td>\n",
       "      <td>1.0</td>\n",
       "      <td>0.0</td>\n",
       "      <td>1.0</td>\n",
       "      <td>0.0</td>\n",
       "      <td>3.0</td>\n",
       "      <td>1.0</td>\n",
       "      <td>1.0</td>\n",
       "      <td>0.0</td>\n",
       "      <td>0.0</td>\n",
       "      <td>0.0</td>\n",
       "      <td>0.0</td>\n",
       "      <td>0.0</td>\n",
       "      <td>0.0</td>\n",
       "      <td>1.0</td>\n",
       "      <td>0.0</td>\n",
       "      <td>2.0</td>\n",
       "      <td>4.0</td>\n",
       "      <td>0.0</td>\n",
       "    </tr>\n",
       "    <tr>\n",
       "      <th>718913</th>\n",
       "      <td>2.0</td>\n",
       "      <td>1.0</td>\n",
       "      <td>1.0</td>\n",
       "      <td>0.0</td>\n",
       "      <td>1.0</td>\n",
       "      <td>0.0</td>\n",
       "      <td>2.0</td>\n",
       "      <td>1.0</td>\n",
       "      <td>1.0</td>\n",
       "      <td>0.0</td>\n",
       "      <td>0.0</td>\n",
       "      <td>0.0</td>\n",
       "      <td>0.0</td>\n",
       "      <td>1.0</td>\n",
       "      <td>0.0</td>\n",
       "      <td>0.0</td>\n",
       "      <td>0.0</td>\n",
       "      <td>2.0</td>\n",
       "      <td>4.0</td>\n",
       "      <td>0.0</td>\n",
       "    </tr>\n",
       "    <tr>\n",
       "      <th>718914</th>\n",
       "      <td>1.0</td>\n",
       "      <td>0.0</td>\n",
       "      <td>0.0</td>\n",
       "      <td>2.0</td>\n",
       "      <td>0.0</td>\n",
       "      <td>0.0</td>\n",
       "      <td>0.0</td>\n",
       "      <td>1.0</td>\n",
       "      <td>2.0</td>\n",
       "      <td>1.0</td>\n",
       "      <td>0.0</td>\n",
       "      <td>0.0</td>\n",
       "      <td>1.0</td>\n",
       "      <td>0.0</td>\n",
       "      <td>1.0</td>\n",
       "      <td>0.0</td>\n",
       "      <td>0.0</td>\n",
       "      <td>0.0</td>\n",
       "      <td>4.0</td>\n",
       "      <td>0.0</td>\n",
       "    </tr>\n",
       "    <tr>\n",
       "      <th>718915</th>\n",
       "      <td>0.0</td>\n",
       "      <td>0.0</td>\n",
       "      <td>1.0</td>\n",
       "      <td>1.0</td>\n",
       "      <td>1.0</td>\n",
       "      <td>0.0</td>\n",
       "      <td>1.0</td>\n",
       "      <td>2.0</td>\n",
       "      <td>4.0</td>\n",
       "      <td>0.0</td>\n",
       "      <td>0.0</td>\n",
       "      <td>0.0</td>\n",
       "      <td>2.0</td>\n",
       "      <td>0.0</td>\n",
       "      <td>0.0</td>\n",
       "      <td>0.0</td>\n",
       "      <td>1.0</td>\n",
       "      <td>0.0</td>\n",
       "      <td>5.0</td>\n",
       "      <td>2.0</td>\n",
       "    </tr>\n",
       "    <tr>\n",
       "      <th>718916</th>\n",
       "      <td>0.0</td>\n",
       "      <td>0.0</td>\n",
       "      <td>1.0</td>\n",
       "      <td>1.0</td>\n",
       "      <td>1.0</td>\n",
       "      <td>0.0</td>\n",
       "      <td>1.0</td>\n",
       "      <td>2.0</td>\n",
       "      <td>4.0</td>\n",
       "      <td>0.0</td>\n",
       "      <td>0.0</td>\n",
       "      <td>0.0</td>\n",
       "      <td>2.0</td>\n",
       "      <td>0.0</td>\n",
       "      <td>0.0</td>\n",
       "      <td>0.0</td>\n",
       "      <td>1.0</td>\n",
       "      <td>0.0</td>\n",
       "      <td>5.0</td>\n",
       "      <td>2.0</td>\n",
       "    </tr>\n",
       "  </tbody>\n",
       "</table>\n",
       "<p>718917 rows × 20 columns</p>\n",
       "</div>"
      ],
      "text/plain": [
       "           A    G    R    E    Q    S    N    P    V    K    L    I    D    W  \\\n",
       "0       12.0  3.0  1.0  0.0  0.0  0.0  0.0  0.0  0.0  0.0  0.0  0.0  0.0  0.0   \n",
       "1        8.0  1.0  0.0  1.0  2.0  2.0  1.0  1.0  1.0  2.0  0.0  0.0  0.0  0.0   \n",
       "2       17.0  9.0  1.0  0.0  1.0  4.0  0.0  3.0  1.0  0.0  1.0  1.0  1.0  0.0   \n",
       "3        9.0  1.0  1.0  1.0  0.0  3.0  0.0  1.0  2.0  1.0  0.0  0.0  5.0  1.0   \n",
       "4        9.0  1.0  1.0  1.0  0.0  3.0  0.0  1.0  2.0  1.0  0.0  0.0  5.0  1.0   \n",
       "...      ...  ...  ...  ...  ...  ...  ...  ...  ...  ...  ...  ...  ...  ...   \n",
       "718912   1.0  1.0  1.0  0.0  1.0  0.0  3.0  1.0  1.0  0.0  0.0  0.0  0.0  0.0   \n",
       "718913   2.0  1.0  1.0  0.0  1.0  0.0  2.0  1.0  1.0  0.0  0.0  0.0  0.0  1.0   \n",
       "718914   1.0  0.0  0.0  2.0  0.0  0.0  0.0  1.0  2.0  1.0  0.0  0.0  1.0  0.0   \n",
       "718915   0.0  0.0  1.0  1.0  1.0  0.0  1.0  2.0  4.0  0.0  0.0  0.0  2.0  0.0   \n",
       "718916   0.0  0.0  1.0  1.0  1.0  0.0  1.0  2.0  4.0  0.0  0.0  0.0  2.0  0.0   \n",
       "\n",
       "          F    M    T    C    Y    H  \n",
       "0       0.0  0.0  0.0  0.0  0.0  0.0  \n",
       "1       0.0  0.0  0.0  0.0  0.0  0.0  \n",
       "2       0.0  0.0  0.0  0.0  0.0  0.0  \n",
       "3       1.0  0.0  0.0  0.0  0.0  0.0  \n",
       "4       1.0  0.0  0.0  0.0  0.0  0.0  \n",
       "...     ...  ...  ...  ...  ...  ...  \n",
       "718912  0.0  1.0  0.0  2.0  4.0  0.0  \n",
       "718913  0.0  0.0  0.0  2.0  4.0  0.0  \n",
       "718914  1.0  0.0  0.0  0.0  4.0  0.0  \n",
       "718915  0.0  0.0  1.0  0.0  5.0  2.0  \n",
       "718916  0.0  0.0  1.0  0.0  5.0  2.0  \n",
       "\n",
       "[718917 rows x 20 columns]"
      ]
     },
     "execution_count": 190,
     "metadata": {},
     "output_type": "execute_result"
    }
   ],
   "source": [
    "X_matrix_count"
   ]
  },
  {
   "cell_type": "markdown",
   "id": "533ee8f8",
   "metadata": {},
   "source": [
    "A fairly rudimentary technique is to use the volume of each amino acid and sum these volumes:"
   ]
  },
  {
   "cell_type": "code",
   "execution_count": 191,
   "id": "8eb65502",
   "metadata": {},
   "outputs": [],
   "source": [
    "def to_predicted_ccs(row):\n",
    "    vol_sum = sum([vol_dict[k]*v for k,v in row.to_dict().items()])    \n",
    "    return vol_sum\n",
    "\n",
    "ccs_df[\"predicted_CCS_vol_based\"] = X_matrix_count.apply(to_predicted_ccs,axis=1)"
   ]
  },
  {
   "cell_type": "markdown",
   "id": "bd4ada3e",
   "metadata": {},
   "source": [
    "Lets see the results:"
   ]
  },
  {
   "cell_type": "code",
   "execution_count": 192,
   "id": "7cdc6630",
   "metadata": {},
   "outputs": [
    {
     "data": {
      "image/png": "[encoded data removed]",
      "text/plain": [
       "<Figure size 432x288 with 1 Axes>"
      ]
     },
     "metadata": {
      "needs_background": "light"
     },
     "output_type": "display_data"
    }
   ],
   "source": [
    "if len(ccs_df.index) < 1e4:\n",
    "    set_alpha = 0.2\n",
    "    set_size = 3\n",
    "else:\n",
    "    set_alpha = 0.05\n",
    "    set_size = 1\n",
    "\n",
    "for c in range(2,5):\n",
    "    plt.scatter(\n",
    "        ccs_df.loc[ccs_df[\"Charge\"]==c,\"CCS\"],\n",
    "        ccs_df.loc[ccs_df[\"Charge\"]==c,\"predicted_CCS_vol_based\"],\n",
    "        alpha=set_alpha,\n",
    "        s=set_size, \n",
    "        label=\"Z=\"+str(c)\n",
    "    )\n",
    "\n",
    "legend = plt.legend()\n",
    "\n",
    "for lh in legend.legendHandles:\n",
    "    lh.set_sizes([25])\n",
    "    lh.set_alpha(1)\n",
    "\n",
    "plt.xlabel(\"Observed CCS (Angstrom^2)\")\n",
    "plt.xlabel(\"Predicted CCS (Angstrom^2)\")\n",
    "    \n",
    "plt.show()"
   ]
  },
  {
   "cell_type": "markdown",
   "id": "3e029632",
   "metadata": {},
   "source": [
    "Clear correlation, but seems we need to change the intercepts of each curve and make seperate predictions for each peptide charge state. In addition to these observations it seems that higher charge states have higher errors. This likely influenced by a large part by the relation between higher charge states and longer peptides. These longer peptides can deviate more from each other in terms of structures (and CCS). Instead of spending more time on this, lets have a look at a more ML-based approach."
   ]
  },
  {
   "cell_type": "markdown",
   "id": "c1272b6f",
   "metadata": {},
   "source": [
    "## Training a linear regression model for CCS prediction"
   ]
  },
  {
   "cell_type": "code",
   "execution_count": 193,
   "id": "f61f9f0a",
   "metadata": {},
   "outputs": [],
   "source": [
    "from sklearn.linear_model import LinearRegression\n",
    "import numpy as np\n",
    "import random"
   ]
  },
  {
   "cell_type": "markdown",
   "id": "efb5bec8",
   "metadata": {},
   "source": [
    "In this section we will fit a linear regression model. This model is only able to fit a linear function between the features (sequence) and target (CCS). This linear model can be expressed as the following equation:\n",
    "\n",
    "$ Y = \\beta_0 + \\beta_1  X$\n",
    "\n",
    "Where $Y$ is a vector (/list) of all CCS values and X a matrix (/2-dimensional list) of all the amino acids counts. The intercept and weights of each features are learned so the predicted value ($\\hat{Y}$) is close to the observed outcome ($Y$). What is considered close and how this closeness between predictions and observations are minimized is not further discussed here. However, there is a rich amount of information available on the internet (e.g., https://www.coursera.org/learn/machine-learning)."
   ]
  },
  {
   "cell_type": "markdown",
   "id": "489790ec",
   "metadata": {},
   "source": [
    "First, we will split the matrix into 90\\% training peptides and 10\\% testing peptides. These testing peptides are very valuable in estimating model performance. Since the model has not seen these sequences before it cannot overfit on these particular examples."
   ]
  },
  {
   "cell_type": "code",
   "execution_count": 194,
   "id": "b63e1230",
   "metadata": {},
   "outputs": [],
   "source": [
    "# Get all the index identifiers\n",
    "all_idx = list(X_matrix_count.index)\n",
    "random.seed(42)\n",
    "\n",
    "# Shuffle the index identifiers so we can randomly split them in a testing and training set\n",
    "random.shuffle(all_idx)\n",
    "\n",
    "# Select 90 % for training and the remaining 10 % for testing\n",
    "train_idx = all_idx[0:int(len(all_idx)*0.9)]\n",
    "test_idx = all_idx[int(len(all_idx)*0.9):]\n",
    "\n",
    "# Get the train and test indices and point to new variables\n",
    "ccs_df_train = ccs_df.loc[train_idx,:]\n",
    "ccs_df_test = ccs_df.loc[test_idx,:]\n",
    "\n",
    "# Also for the feature matrix get the train and test indices\n",
    "X_matrix_count_train = X_matrix_count.loc[train_idx,:]\n",
    "X_matrix_count_test = X_matrix_count.loc[test_idx,:]"
   ]
  },
  {
   "cell_type": "markdown",
   "id": "91ee18b8",
   "metadata": {},
   "source": [
    "Now lets start training the models. Although we could encode the charge as a feature here we separate all models to counter any charge to composition specific patterns."
   ]
  },
  {
   "cell_type": "code",
   "execution_count": 195,
   "id": "1a73d4a2",
   "metadata": {},
   "outputs": [
    {
     "data": {
      "text/html": [
       "<style>#sk-container-id-13 {color: black;background-color: white;}#sk-container-id-13 pre{padding: 0;}#sk-container-id-13 div.sk-toggleable {background-color: white;}#sk-container-id-13 label.sk-toggleable__label {cursor: pointer;display: block;width: 100%;margin-bottom: 0;padding: 0.3em;box-sizing: border-box;text-align: center;}#sk-container-id-13 label.sk-toggleable__label-arrow:before {content: \"▸\";float: left;margin-right: 0.25em;color: #696969;}#sk-container-id-13 label.sk-toggleable__label-arrow:hover:before {color: black;}#sk-container-id-13 div.sk-estimator:hover label.sk-toggleable__label-arrow:before {color: black;}#sk-container-id-13 div.sk-toggleable__content {max-height: 0;max-width: 0;overflow: hidden;text-align: left;background-color: #f0f8ff;}#sk-container-id-13 div.sk-toggleable__content pre {margin: 0.2em;color: black;border-radius: 0.25em;background-color: #f0f8ff;}#sk-container-id-13 input.sk-toggleable__control:checked~div.sk-toggleable__content {max-height: 200px;max-width: 100%;overflow: auto;}#sk-container-id-13 input.sk-toggleable__control:checked~label.sk-toggleable__label-arrow:before {content: \"▾\";}#sk-container-id-13 div.sk-estimator input.sk-toggleable__control:checked~label.sk-toggleable__label {background-color: #d4ebff;}#sk-container-id-13 div.sk-label input.sk-toggleable__control:checked~label.sk-toggleable__label {background-color: #d4ebff;}#sk-container-id-13 input.sk-hidden--visually {border: 0;clip: rect(1px 1px 1px 1px);clip: rect(1px, 1px, 1px, 1px);height: 1px;margin: -1px;overflow: hidden;padding: 0;position: absolute;width: 1px;}#sk-container-id-13 div.sk-estimator {font-family: monospace;background-color: #f0f8ff;border: 1px dotted black;border-radius: 0.25em;box-sizing: border-box;margin-bottom: 0.5em;}#sk-container-id-13 div.sk-estimator:hover {background-color: #d4ebff;}#sk-container-id-13 div.sk-parallel-item::after {content: \"\";width: 100%;border-bottom: 1px solid gray;flex-grow: 1;}#sk-container-id-13 div.sk-label:hover label.sk-toggleable__label {background-color: #d4ebff;}#sk-container-id-13 div.sk-serial::before {content: \"\";position: absolute;border-left: 1px solid gray;box-sizing: border-box;top: 0;bottom: 0;left: 50%;z-index: 0;}#sk-container-id-13 div.sk-serial {display: flex;flex-direction: column;align-items: center;background-color: white;padding-right: 0.2em;padding-left: 0.2em;position: relative;}#sk-container-id-13 div.sk-item {position: relative;z-index: 1;}#sk-container-id-13 div.sk-parallel {display: flex;align-items: stretch;justify-content: center;background-color: white;position: relative;}#sk-container-id-13 div.sk-item::before, #sk-container-id-13 div.sk-parallel-item::before {content: \"\";position: absolute;border-left: 1px solid gray;box-sizing: border-box;top: 0;bottom: 0;left: 50%;z-index: -1;}#sk-container-id-13 div.sk-parallel-item {display: flex;flex-direction: column;z-index: 1;position: relative;background-color: white;}#sk-container-id-13 div.sk-parallel-item:first-child::after {align-self: flex-end;width: 50%;}#sk-container-id-13 div.sk-parallel-item:last-child::after {align-self: flex-start;width: 50%;}#sk-container-id-13 div.sk-parallel-item:only-child::after {width: 0;}#sk-container-id-13 div.sk-dashed-wrapped {border: 1px dashed gray;margin: 0 0.4em 0.5em 0.4em;box-sizing: border-box;padding-bottom: 0.4em;background-color: white;}#sk-container-id-13 div.sk-label label {font-family: monospace;font-weight: bold;display: inline-block;line-height: 1.2em;}#sk-container-id-13 div.sk-label-container {text-align: center;}#sk-container-id-13 div.sk-container {/* jupyter's `normalize.less` sets `[hidden] { display: none; }` but bootstrap.min.css set `[hidden] { display: none !important; }` so we also need the `!important` here to be able to override the default hidden behavior on the sphinx rendered scikit-learn.org. See: https://github.com/scikit-learn/scikit-learn/issues/21755 */display: inline-block !important;position: relative;}#sk-container-id-13 div.sk-text-repr-fallback {display: none;}</style><div id=\"sk-container-id-13\" class=\"sk-top-container\"><div class=\"sk-text-repr-fallback\"><pre>LinearRegression()</pre><b>In a Jupyter environment, please rerun this cell to show the HTML representation or trust the notebook. <br />On GitHub, the HTML representation is unable to render, please try loading this page with nbviewer.org.</b></div><div class=\"sk-container\" hidden><div class=\"sk-item\"><div class=\"sk-estimator sk-toggleable\"><input class=\"sk-toggleable__control sk-hidden--visually\" id=\"sk-estimator-id-13\" type=\"checkbox\" checked><label for=\"sk-estimator-id-13\" class=\"sk-toggleable__label sk-toggleable__label-arrow\">LinearRegression</label><div class=\"sk-toggleable__content\"><pre>LinearRegression()</pre></div></div></div></div></div>"
      ],
      "text/plain": [
       "LinearRegression()"
      ]
     },
     "execution_count": 195,
     "metadata": {},
     "output_type": "execute_result"
    }
   ],
   "source": [
    "# Initialize a model object\n",
    "linear_model_z2 = LinearRegression()\n",
    "\n",
    "# Fit the initialized model object to our training data (only charge 2)\n",
    "linear_model_z2.fit(\n",
    "    X=X_matrix_count_train.loc[ccs_df_train[\"Charge\"]==2,:],\n",
    "    y=ccs_df_train.loc[ccs_df_train[\"Charge\"]==2,\"CCS\"]\n",
    ")\n",
    "\n",
    "# Repeat for the other two charge states\n",
    "linear_model_z3 = LinearRegression()\n",
    "linear_model_z3.fit(\n",
    "    X=X_matrix_count_train.loc[ccs_df_train[\"Charge\"]==3,:],\n",
    "    y=ccs_df_train.loc[ccs_df_train[\"Charge\"]==3,\"CCS\"]\n",
    ")\n",
    "\n",
    "linear_model_z4 = LinearRegression()\n",
    "linear_model_z4.fit(\n",
    "    X=X_matrix_count_train.loc[ccs_df_train[\"Charge\"]==4,:],\n",
    "    y=ccs_df_train.loc[ccs_df_train[\"Charge\"]==4,\"CCS\"]\n",
    ")"
   ]
  },
  {
   "cell_type": "markdown",
   "id": "a9832376",
   "metadata": {},
   "source": [
    "Now we can have a look at the coefficients ($\\beta_1) learned. These should be highly correlated with the previous experimentally determined volumetric observations for each amino acid:"
   ]
  },
  {
   "cell_type": "code",
   "execution_count": 196,
   "id": "09928caf",
   "metadata": {},
   "outputs": [
    {
     "data": {
      "image/png": "[encoded data removed]",
      "text/plain": [
       "<Figure size 432x288 with 1 Axes>"
      ]
     },
     "metadata": {
      "needs_background": "light"
     },
     "output_type": "display_data"
    }
   ],
   "source": [
    "# Scatter plot the coefficients of each amino acid against their experimentally determined volumes\n",
    "plt.scatter(\n",
    "    linear_model_z2.coef_,\n",
    "    [vol_dict[v] for v in X_matrix_count.columns]\n",
    ")\n",
    "\n",
    "# Plot a diagonal line we expect the points to be on\n",
    "plt.plot(\n",
    "    [6.0,26.0],\n",
    "    [60.0,260],\n",
    "    c=\"grey\",\n",
    "    zorder=0\n",
    ")\n",
    "\n",
    "# Annotate each point with their respective amino acids\n",
    "for v,x,y in zip(X_matrix_count.columns,\n",
    "                 linear_model_z2.coef_,\n",
    "                 [vol_dict[v] for v in X_matrix_count.columns]):\n",
    "    \n",
    "    plt.annotate(v,(x+0.1,y+5.0))\n",
    "    \n",
    "plt.show()"
   ]
  },
  {
   "cell_type": "markdown",
   "id": "2cef7167",
   "metadata": {},
   "source": [
    "Observations are very similar. There are differences that could be cause by a multitude of reasons. For example, the difference between volumetric observations in the CCS cell is different or being part of a polypeptide chain changes the volume of the amino acid."
   ]
  },
  {
   "cell_type": "markdown",
   "id": "8bd6a8a8",
   "metadata": {},
   "source": [
    "Next we will plot the predictions of the test set and compare them with observational data. Note that we apply each charge model seperately."
   ]
  },
  {
   "cell_type": "code",
   "execution_count": 197,
   "id": "ffd005f8",
   "metadata": {},
   "outputs": [
    {
     "data": {
      "image/png": "[encoded data removed]",
      "text/plain": [
       "<Figure size 432x288 with 1 Axes>"
      ]
     },
     "metadata": {
      "needs_background": "light"
     },
     "output_type": "display_data"
    }
   ],
   "source": [
    "if len(ccs_df.index) < 1e4:\n",
    "    set_alpha = 0.2\n",
    "    set_size = 3\n",
    "else:\n",
    "    set_alpha = 0.05\n",
    "    set_size = 1\n",
    "\n",
    "# Scatter plot the observations on the test set against the predictions on the same set (z=2)\n",
    "plt.scatter(\n",
    "    linear_model_z2.predict(X=X_matrix_count_test.loc[ccs_df[\"Charge\"]==2,:]),\n",
    "    ccs_df_test.loc[ccs_df[\"Charge\"]==2,\"CCS\"],\n",
    "    alpha=set_alpha,\n",
    "    s=set_size,\n",
    "    label=\"Z=2\"\n",
    ")\n",
    "\n",
    "# Scatter plot the observations on the test set against the predictions on the same set (z=3)\n",
    "plt.scatter(\n",
    "    linear_model_z3.predict(X=X_matrix_count_test.loc[ccs_df[\"Charge\"]==3,:]),\n",
    "    ccs_df_test.loc[ccs_df[\"Charge\"]==3,\"CCS\"],\n",
    "    alpha=set_alpha,\n",
    "    s=set_size,\n",
    "    label=\"Z=3\"\n",
    ")\n",
    "\n",
    "# Scatter plot the observations on the test set against the predictions on the same set (z=4)\n",
    "plt.scatter(\n",
    "    linear_model_z4.predict(X=X_matrix_count_test.loc[ccs_df[\"Charge\"]==4,:]),\n",
    "    ccs_df_test.loc[ccs_df[\"Charge\"]==4,\"CCS\"],\n",
    "    alpha=set_alpha,\n",
    "    s=set_size,\n",
    "    label=\"Z=4\"\n",
    ")\n",
    "\n",
    "# Plot a diagonal the points should be one\n",
    "plt.plot([300,1100],[300,1100],c=\"grey\")\n",
    "\n",
    "# Add a legend for the charge states\n",
    "legend = plt.legend()\n",
    "\n",
    "# Make sure the legend labels are visible and big enough\n",
    "for lh in legend.legendHandles:\n",
    "    lh.set_sizes([25])\n",
    "    lh.set_alpha(1)\n",
    "    \n",
    "# Get the predictions and calculate performance metrics\n",
    "predictions = linear_model_z2.predict(X_matrix_count_test.loc[ccs_df[\"Charge\"]==3,:])\n",
    "mare = round(sum((abs(predictions-ccs_df_test.loc[ccs_df[\"Charge\"]==3,\"CCS\"])/ccs_df_test.loc[ccs_df[\"Charge\"]==3,\"CCS\"])*100)/len(predictions),3)\n",
    "pcc = round(pearsonr(predictions,ccs_df_test.loc[ccs_df[\"Charge\"]==3,\"CCS\"])[0],3)\n",
    "perc_95 = round(np.percentile((abs(predictions-ccs_df_test.loc[ccs_df[\"Charge\"]==3,\"CCS\"])/ccs_df_test.loc[ccs_df[\"Charge\"]==3,\"CCS\"])*100,95)*2,2)\n",
    "\n",
    "plt.title(f\"Linear model - PCC: {pcc} - MARE: {mare}% - 95th percentile: {perc_95}% (z3 model for z3 observations)\")\n",
    "\n",
    "ax = plt.gca()\n",
    "ax.set_aspect('equal')\n",
    "\n",
    "plt.xlabel(\"Observed CCS (^2)\")\n",
    "plt.ylabel(\"Predicted CCS (^2)\")\n",
    "\n",
    "plt.show()"
   ]
  },
  {
   "cell_type": "markdown",
   "id": "a22a32c6",
   "metadata": {},
   "source": [
    "It is clear that the predictions and observations are on the diagonal. This means that they are very similar. However, there are still some differences between observations and predictions."
   ]
  },
  {
   "cell_type": "markdown",
   "id": "dcaf4029",
   "metadata": {},
   "source": [
    "In the previous example we trained models for charge state seperately. This is slightly inconvenient and other charge states might still be able to provide useful training examples. As long as the model corrects for the right charge state of course. In the next example we add charge state to the feature matrix. The linear model should be (partially...) able to account for the charge states of peptides."
   ]
  },
  {
   "cell_type": "code",
   "execution_count": 198,
   "id": "b4fd9e0e",
   "metadata": {},
   "outputs": [],
   "source": [
    "# Make a new copy of feature matrix and add charge as a feature\n",
    "X_matrix_count_charge_train = X_matrix_count_train.copy()\n",
    "X_matrix_count_charge_train[\"charge\"] = ccs_df_train[\"Charge\"]\n",
    "\n",
    "X_matrix_count_charge_test = X_matrix_count_test.copy()\n",
    "X_matrix_count_charge_test[\"charge\"] = ccs_df_test[\"Charge\"]"
   ]
  },
  {
   "cell_type": "code",
   "execution_count": 199,
   "id": "b11bc63a",
   "metadata": {},
   "outputs": [
    {
     "data": {
      "text/html": [
       "<style>#sk-container-id-14 {color: black;background-color: white;}#sk-container-id-14 pre{padding: 0;}#sk-container-id-14 div.sk-toggleable {background-color: white;}#sk-container-id-14 label.sk-toggleable__label {cursor: pointer;display: block;width: 100%;margin-bottom: 0;padding: 0.3em;box-sizing: border-box;text-align: center;}#sk-container-id-14 label.sk-toggleable__label-arrow:before {content: \"▸\";float: left;margin-right: 0.25em;color: #696969;}#sk-container-id-14 label.sk-toggleable__label-arrow:hover:before {color: black;}#sk-container-id-14 div.sk-estimator:hover label.sk-toggleable__label-arrow:before {color: black;}#sk-container-id-14 div.sk-toggleable__content {max-height: 0;max-width: 0;overflow: hidden;text-align: left;background-color: #f0f8ff;}#sk-container-id-14 div.sk-toggleable__content pre {margin: 0.2em;color: black;border-radius: 0.25em;background-color: #f0f8ff;}#sk-container-id-14 input.sk-toggleable__control:checked~div.sk-toggleable__content {max-height: 200px;max-width: 100%;overflow: auto;}#sk-container-id-14 input.sk-toggleable__control:checked~label.sk-toggleable__label-arrow:before {content: \"▾\";}#sk-container-id-14 div.sk-estimator input.sk-toggleable__control:checked~label.sk-toggleable__label {background-color: #d4ebff;}#sk-container-id-14 div.sk-label input.sk-toggleable__control:checked~label.sk-toggleable__label {background-color: #d4ebff;}#sk-container-id-14 input.sk-hidden--visually {border: 0;clip: rect(1px 1px 1px 1px);clip: rect(1px, 1px, 1px, 1px);height: 1px;margin: -1px;overflow: hidden;padding: 0;position: absolute;width: 1px;}#sk-container-id-14 div.sk-estimator {font-family: monospace;background-color: #f0f8ff;border: 1px dotted black;border-radius: 0.25em;box-sizing: border-box;margin-bottom: 0.5em;}#sk-container-id-14 div.sk-estimator:hover {background-color: #d4ebff;}#sk-container-id-14 div.sk-parallel-item::after {content: \"\";width: 100%;border-bottom: 1px solid gray;flex-grow: 1;}#sk-container-id-14 div.sk-label:hover label.sk-toggleable__label {background-color: #d4ebff;}#sk-container-id-14 div.sk-serial::before {content: \"\";position: absolute;border-left: 1px solid gray;box-sizing: border-box;top: 0;bottom: 0;left: 50%;z-index: 0;}#sk-container-id-14 div.sk-serial {display: flex;flex-direction: column;align-items: center;background-color: white;padding-right: 0.2em;padding-left: 0.2em;position: relative;}#sk-container-id-14 div.sk-item {position: relative;z-index: 1;}#sk-container-id-14 div.sk-parallel {display: flex;align-items: stretch;justify-content: center;background-color: white;position: relative;}#sk-container-id-14 div.sk-item::before, #sk-container-id-14 div.sk-parallel-item::before {content: \"\";position: absolute;border-left: 1px solid gray;box-sizing: border-box;top: 0;bottom: 0;left: 50%;z-index: -1;}#sk-container-id-14 div.sk-parallel-item {display: flex;flex-direction: column;z-index: 1;position: relative;background-color: white;}#sk-container-id-14 div.sk-parallel-item:first-child::after {align-self: flex-end;width: 50%;}#sk-container-id-14 div.sk-parallel-item:last-child::after {align-self: flex-start;width: 50%;}#sk-container-id-14 div.sk-parallel-item:only-child::after {width: 0;}#sk-container-id-14 div.sk-dashed-wrapped {border: 1px dashed gray;margin: 0 0.4em 0.5em 0.4em;box-sizing: border-box;padding-bottom: 0.4em;background-color: white;}#sk-container-id-14 div.sk-label label {font-family: monospace;font-weight: bold;display: inline-block;line-height: 1.2em;}#sk-container-id-14 div.sk-label-container {text-align: center;}#sk-container-id-14 div.sk-container {/* jupyter's `normalize.less` sets `[hidden] { display: none; }` but bootstrap.min.css set `[hidden] { display: none !important; }` so we also need the `!important` here to be able to override the default hidden behavior on the sphinx rendered scikit-learn.org. See: https://github.com/scikit-learn/scikit-learn/issues/21755 */display: inline-block !important;position: relative;}#sk-container-id-14 div.sk-text-repr-fallback {display: none;}</style><div id=\"sk-container-id-14\" class=\"sk-top-container\"><div class=\"sk-text-repr-fallback\"><pre>LinearRegression()</pre><b>In a Jupyter environment, please rerun this cell to show the HTML representation or trust the notebook. <br />On GitHub, the HTML representation is unable to render, please try loading this page with nbviewer.org.</b></div><div class=\"sk-container\" hidden><div class=\"sk-item\"><div class=\"sk-estimator sk-toggleable\"><input class=\"sk-toggleable__control sk-hidden--visually\" id=\"sk-estimator-id-14\" type=\"checkbox\" checked><label for=\"sk-estimator-id-14\" class=\"sk-toggleable__label sk-toggleable__label-arrow\">LinearRegression</label><div class=\"sk-toggleable__content\"><pre>LinearRegression()</pre></div></div></div></div></div>"
      ],
      "text/plain": [
       "LinearRegression()"
      ]
     },
     "execution_count": 199,
     "metadata": {},
     "output_type": "execute_result"
    }
   ],
   "source": [
    "# Fit the linear model, but this time with the charge as a feature\n",
    "linear_model = LinearRegression()\n",
    "\n",
    "linear_model.fit(\n",
    "    X=X_matrix_count_charge_train,\n",
    "    y=ccs_df_train.loc[:,\"CCS\"]\n",
    ")"
   ]
  },
  {
   "cell_type": "code",
   "execution_count": 200,
   "id": "b40ea5b0",
   "metadata": {},
   "outputs": [
    {
     "data": {
      "image/png": "[encoded data removed]",
      "text/plain": [
       "<Figure size 432x288 with 1 Axes>"
      ]
     },
     "metadata": {
      "needs_background": "light"
     },
     "output_type": "display_data"
    }
   ],
   "source": [
    "if len(ccs_df.index) < 1e4:\n",
    "    set_alpha = 0.2\n",
    "    set_size = 3\n",
    "else:\n",
    "    set_alpha = 0.05\n",
    "    set_size = 1\n",
    "\n",
    "# Scatter plot the observations on the test set against the predictions on the same set\n",
    "plt.scatter(\n",
    "    linear_model.predict(X=X_matrix_count_charge_test.loc[ccs_df[\"Charge\"]==2,:]),\n",
    "    ccs_df_test.loc[ccs_df[\"Charge\"]==2,\"CCS\"],\n",
    "    alpha=set_alpha,\n",
    "    s=1,\n",
    "    label=\"Z=2\"\n",
    ")\n",
    "\n",
    "plt.scatter(\n",
    "    linear_model.predict(X=X_matrix_count_charge_test.loc[ccs_df[\"Charge\"]==3,:]),\n",
    "    ccs_df_test.loc[ccs_df[\"Charge\"]==3,\"CCS\"],\n",
    "    alpha=set_alpha,\n",
    "    s=1,\n",
    "    label=\"Z=3\"\n",
    ")\n",
    "\n",
    "plt.scatter(\n",
    "    linear_model.predict(X=X_matrix_count_charge_test.loc[ccs_df[\"Charge\"]==4,:]),\n",
    "    ccs_df_test.loc[ccs_df[\"Charge\"]==4,\"CCS\"],\n",
    "    alpha=set_alpha,\n",
    "    s=set_size,\n",
    "    label=\"Z=4\"\n",
    ")\n",
    "\n",
    "# Plot a diagonal the points should be one\n",
    "plt.plot([300,1100],[300,1100],c=\"grey\")\n",
    "\n",
    "legend = plt.legend()\n",
    "\n",
    "for lh in legend.legendHandles:\n",
    "    lh.set_sizes([25])\n",
    "    lh.set_alpha(1)\n",
    "\n",
    "# Get the predictions and calculate performance metrics\n",
    "predictions = linear_model.predict(X=X_matrix_count_charge_test)\n",
    "mare = round(sum((abs(predictions-ccs_df_test.loc[:,\"CCS\"])/ccs_df_test.loc[:,\"CCS\"])*100)/len(predictions),3)\n",
    "pcc = round(pearsonr(predictions,ccs_df_test.loc[:,\"CCS\"])[0],3)\n",
    "perc_95 = round(np.percentile((abs(predictions-ccs_df_test.loc[:,\"CCS\"])/ccs_df_test.loc[:,\"CCS\"])*100,95)*2,2)\n",
    "\n",
    "plt.title(f\"Linear model - PCC: {pcc} - MARE: {mare}% - 95th percentile: {perc_95}%\")\n",
    "\n",
    "ax = plt.gca()\n",
    "ax.set_aspect('equal')\n",
    "\n",
    "plt.xlabel(\"Observed CCS (^2)\")\n",
    "plt.ylabel(\"Predicted CCS (^2)\")\n",
    "    \n",
    "plt.show()"
   ]
  },
  {
   "cell_type": "markdown",
   "id": "eb82e7f8",
   "metadata": {},
   "source": [
    "With this model we are capable to predict CCS values for all three charge states (maybe more; be careful with extrapolation). However, it also shows that both z3 and z4 are not optimally predicted. Especially z4 we can probably draw a line manually that provides better performance than the current model. The incapability of the model to correctly predict some of these values is largely due to the linear algorithm. With this algorithm we can only fit \"simple\" linear relations, but more complex relations are not modeled correctly. In the next section we will fit a non-linear model that is able to capture these complex relations better. However, keep in mind that more complex models are usually also able to overfit data better, resulting in poorer generalization performance."
   ]
  },
  {
   "cell_type": "markdown",
   "id": "ffc2b8ef",
   "metadata": {},
   "source": [
    "## Training an RF (non-linear) regression model for CCS prediction"
   ]
  },
  {
   "cell_type": "markdown",
   "id": "b14029ae",
   "metadata": {},
   "source": [
    "In this section we will fit a random forest (RF) regression model. We hope to fit some of the non-linear relations present in the data. The RF algorithm fits multiple decision trees, but what makes these trees different is the random selection of instances (peptides) and/or features (amino acid count). The predictions between the forest of trees can be averaged to obtain a single prediction per peptide (instead of multiple for the same peptide). Later we will see that the algorithm might actually not be suitable for fitting this type of data."
   ]
  },
  {
   "cell_type": "code",
   "execution_count": 201,
   "id": "b6ddbb53",
   "metadata": {},
   "outputs": [],
   "source": [
    "from sklearn.ensemble import RandomForestRegressor"
   ]
  },
  {
   "cell_type": "code",
   "execution_count": 202,
   "id": "762b5b02",
   "metadata": {},
   "outputs": [],
   "source": [
    "# Make a new copy of feature matrix and add charge as a feature\n",
    "X_matrix_count_charge_train = X_matrix_count_train.copy()\n",
    "X_matrix_count_charge_train[\"charge\"] = ccs_df_train[\"Charge\"]\n",
    "\n",
    "X_matrix_count_charge_test = X_matrix_count_test.copy()\n",
    "X_matrix_count_charge_test[\"charge\"] = ccs_df_test[\"Charge\"]"
   ]
  },
  {
   "cell_type": "code",
   "execution_count": 203,
   "id": "7db671e2",
   "metadata": {},
   "outputs": [
    {
     "data": {
      "text/html": [
       "<style>#sk-container-id-15 {color: black;background-color: white;}#sk-container-id-15 pre{padding: 0;}#sk-container-id-15 div.sk-toggleable {background-color: white;}#sk-container-id-15 label.sk-toggleable__label {cursor: pointer;display: block;width: 100%;margin-bottom: 0;padding: 0.3em;box-sizing: border-box;text-align: center;}#sk-container-id-15 label.sk-toggleable__label-arrow:before {content: \"▸\";float: left;margin-right: 0.25em;color: #696969;}#sk-container-id-15 label.sk-toggleable__label-arrow:hover:before {color: black;}#sk-container-id-15 div.sk-estimator:hover label.sk-toggleable__label-arrow:before {color: black;}#sk-container-id-15 div.sk-toggleable__content {max-height: 0;max-width: 0;overflow: hidden;text-align: left;background-color: #f0f8ff;}#sk-container-id-15 div.sk-toggleable__content pre {margin: 0.2em;color: black;border-radius: 0.25em;background-color: #f0f8ff;}#sk-container-id-15 input.sk-toggleable__control:checked~div.sk-toggleable__content {max-height: 200px;max-width: 100%;overflow: auto;}#sk-container-id-15 input.sk-toggleable__control:checked~label.sk-toggleable__label-arrow:before {content: \"▾\";}#sk-container-id-15 div.sk-estimator input.sk-toggleable__control:checked~label.sk-toggleable__label {background-color: #d4ebff;}#sk-container-id-15 div.sk-label input.sk-toggleable__control:checked~label.sk-toggleable__label {background-color: #d4ebff;}#sk-container-id-15 input.sk-hidden--visually {border: 0;clip: rect(1px 1px 1px 1px);clip: rect(1px, 1px, 1px, 1px);height: 1px;margin: -1px;overflow: hidden;padding: 0;position: absolute;width: 1px;}#sk-container-id-15 div.sk-estimator {font-family: monospace;background-color: #f0f8ff;border: 1px dotted black;border-radius: 0.25em;box-sizing: border-box;margin-bottom: 0.5em;}#sk-container-id-15 div.sk-estimator:hover {background-color: #d4ebff;}#sk-container-id-15 div.sk-parallel-item::after {content: \"\";width: 100%;border-bottom: 1px solid gray;flex-grow: 1;}#sk-container-id-15 div.sk-label:hover label.sk-toggleable__label {background-color: #d4ebff;}#sk-container-id-15 div.sk-serial::before {content: \"\";position: absolute;border-left: 1px solid gray;box-sizing: border-box;top: 0;bottom: 0;left: 50%;z-index: 0;}#sk-container-id-15 div.sk-serial {display: flex;flex-direction: column;align-items: center;background-color: white;padding-right: 0.2em;padding-left: 0.2em;position: relative;}#sk-container-id-15 div.sk-item {position: relative;z-index: 1;}#sk-container-id-15 div.sk-parallel {display: flex;align-items: stretch;justify-content: center;background-color: white;position: relative;}#sk-container-id-15 div.sk-item::before, #sk-container-id-15 div.sk-parallel-item::before {content: \"\";position: absolute;border-left: 1px solid gray;box-sizing: border-box;top: 0;bottom: 0;left: 50%;z-index: -1;}#sk-container-id-15 div.sk-parallel-item {display: flex;flex-direction: column;z-index: 1;position: relative;background-color: white;}#sk-container-id-15 div.sk-parallel-item:first-child::after {align-self: flex-end;width: 50%;}#sk-container-id-15 div.sk-parallel-item:last-child::after {align-self: flex-start;width: 50%;}#sk-container-id-15 div.sk-parallel-item:only-child::after {width: 0;}#sk-container-id-15 div.sk-dashed-wrapped {border: 1px dashed gray;margin: 0 0.4em 0.5em 0.4em;box-sizing: border-box;padding-bottom: 0.4em;background-color: white;}#sk-container-id-15 div.sk-label label {font-family: monospace;font-weight: bold;display: inline-block;line-height: 1.2em;}#sk-container-id-15 div.sk-label-container {text-align: center;}#sk-container-id-15 div.sk-container {/* jupyter's `normalize.less` sets `[hidden] { display: none; }` but bootstrap.min.css set `[hidden] { display: none !important; }` so we also need the `!important` here to be able to override the default hidden behavior on the sphinx rendered scikit-learn.org. See: https://github.com/scikit-learn/scikit-learn/issues/21755 */display: inline-block !important;position: relative;}#sk-container-id-15 div.sk-text-repr-fallback {display: none;}</style><div id=\"sk-container-id-15\" class=\"sk-top-container\"><div class=\"sk-text-repr-fallback\"><pre>RandomForestRegressor(max_depth=20, n_estimators=50, n_jobs=-1)</pre><b>In a Jupyter environment, please rerun this cell to show the HTML representation or trust the notebook. <br />On GitHub, the HTML representation is unable to render, please try loading this page with nbviewer.org.</b></div><div class=\"sk-container\" hidden><div class=\"sk-item\"><div class=\"sk-estimator sk-toggleable\"><input class=\"sk-toggleable__control sk-hidden--visually\" id=\"sk-estimator-id-15\" type=\"checkbox\" checked><label for=\"sk-estimator-id-15\" class=\"sk-toggleable__label sk-toggleable__label-arrow\">RandomForestRegressor</label><div class=\"sk-toggleable__content\"><pre>RandomForestRegressor(max_depth=20, n_estimators=50, n_jobs=-1)</pre></div></div></div></div></div>"
      ],
      "text/plain": [
       "RandomForestRegressor(max_depth=20, n_estimators=50, n_jobs=-1)"
      ]
     },
     "execution_count": 203,
     "metadata": {},
     "output_type": "execute_result"
    }
   ],
   "source": [
    "# Initialize a RF object, note the hyperparameters that the model will follow\n",
    "rf_model = RandomForestRegressor(\n",
    "                max_depth=20,\n",
    "                n_estimators=50,\n",
    "                n_jobs=-1\n",
    ")\n",
    "\n",
    "# Fit the RF model\n",
    "rf_model.fit(\n",
    "    X=X_matrix_count_charge_train,\n",
    "    y=ccs_df_train.loc[:,\"CCS\"]\n",
    ")"
   ]
  },
  {
   "cell_type": "code",
   "execution_count": 204,
   "id": "8fa46231",
   "metadata": {},
   "outputs": [
    {
     "data": {
      "image/png": "[encoded data removed]",
      "text/plain": [
       "<Figure size 432x288 with 1 Axes>"
      ]
     },
     "metadata": {
      "needs_background": "light"
     },
     "output_type": "display_data"
    }
   ],
   "source": [
    "if len(ccs_df.index) < 1e4:\n",
    "    set_alpha = 0.2\n",
    "    set_size = 3\n",
    "else:\n",
    "    set_alpha = 0.05\n",
    "    set_size = 1\n",
    "\n",
    "# Scatter plot the observations on the test set against the predictions on the same set\n",
    "plt.scatter(\n",
    "    rf_model.predict(X=X_matrix_count_charge_test.loc[ccs_df_test[\"Charge\"]==2,:]),\n",
    "    ccs_df_test.loc[ccs_df_test[\"Charge\"]==2,\"CCS\"],\n",
    "    alpha=set_alpha,\n",
    "    s=set_size,\n",
    "    label=\"Z=2\"\n",
    ")\n",
    "\n",
    "plt.scatter(\n",
    "    rf_model.predict(X=X_matrix_count_charge_test.loc[ccs_df_test[\"Charge\"]==3,:]),\n",
    "    ccs_df_test.loc[ccs_df_test[\"Charge\"]==3,\"CCS\"],\n",
    "    alpha=set_alpha,\n",
    "    s=set_size,\n",
    "    label=\"Z=3\"\n",
    ")\n",
    "\n",
    "plt.scatter(\n",
    "    rf_model.predict(X=X_matrix_count_charge_test.loc[ccs_df_test[\"Charge\"]==4,:]),\n",
    "    ccs_df_test.loc[ccs_df_test[\"Charge\"]==4,\"CCS\"],\n",
    "    alpha=set_alpha,\n",
    "    s=set_size,\n",
    "    label=\"Z=4\"\n",
    ")\n",
    "\n",
    "# Plot a diagonal the points should be one\n",
    "plt.plot([300,1100],[300,1100],c=\"grey\")\n",
    "\n",
    "legend = plt.legend()\n",
    "\n",
    "for lh in legend.legendHandles:\n",
    "    lh.set_sizes([25])\n",
    "    lh.set_alpha(1)\n",
    "\n",
    "# Get the predictions and calculate performance metrics\n",
    "predictions = rf_model.predict(X=X_matrix_count_charge_test)\n",
    "mare = round(sum((abs(predictions-ccs_df_test.loc[:,\"CCS\"])/ccs_df_test.loc[:,\"CCS\"])*100)/len(predictions),3)\n",
    "pcc = round(pearsonr(predictions,ccs_df_test.loc[:,\"CCS\"])[0],3)\n",
    "perc_95 = round(np.percentile((abs(predictions-ccs_df_test.loc[:,\"CCS\"])/ccs_df_test.loc[:,\"CCS\"])*100,95)*2,2)\n",
    "\n",
    "plt.title(f\"RF - PCC: {pcc} - MARE: {mare}% - 95th percentile: {perc_95}%\")\n",
    "\n",
    "ax = plt.gca()\n",
    "ax.set_aspect('equal')\n",
    "\n",
    "plt.xlabel(\"Observed CCS (^2)\")\n",
    "plt.ylabel(\"Predicted CCS (^2)\")\n",
    "\n",
    "plt.show()"
   ]
  },
  {
   "cell_type": "markdown",
   "id": "b1f094c9",
   "metadata": {},
   "source": [
    "As can be observed the problem with z=4 splitting up is gone, probably due to the capability of RF to fit non-linear relations. However, we see quite a large deviation on the diagonal. One of the major causes of this problem is the exclusion of amino acid counts for the decision trees. Although this is fundamental to the inner workings of RF, it means that we cannot take the excluded amino acids into account and these values are likely to be replaced by average expected volume to other (non-excluded) amino acids. RF performs very well when features correlate, and predictions are not fully dependent on the inclusion of all features. Next we will look at a decision tree algorithm (XGBoost) that does not rely on the exclusion of features.\n",
    "\n",
    "PS note that you might be able to fit a much better model by using a much larger number of trees, but overall the problem largely remains, and it is better to choose an algorithm that respects/fits your data best."
   ]
  },
  {
   "cell_type": "markdown",
   "id": "bb20bd9f",
   "metadata": {},
   "source": [
    "## Training a XGBoost (non-linear) regression model for CCS prediction"
   ]
  },
  {
   "cell_type": "markdown",
   "id": "d5e8849d",
   "metadata": {},
   "source": [
    "In this section we will fit a XGBoost regression model. This algorithm works by training a sequence of underfitted models. Each model in the sequence receives the output of the previous decision tree models. This combination of trees allows to fit the data well without greatly overfitting it."
   ]
  },
  {
   "cell_type": "code",
   "execution_count": 205,
   "id": "57398e56",
   "metadata": {},
   "outputs": [],
   "source": [
    "from xgboost import XGBRegressor"
   ]
  },
  {
   "cell_type": "code",
   "execution_count": 206,
   "id": "56d79fa3",
   "metadata": {},
   "outputs": [],
   "source": [
    "# Make a new copy of feature matrix and add charge as a feature\n",
    "X_matrix_count_charge_train = X_matrix_count_train.copy()\n",
    "X_matrix_count_charge_train[\"charge\"] = ccs_df_train[\"Charge\"]\n",
    "\n",
    "X_matrix_count_charge_test = X_matrix_count_test.copy()\n",
    "X_matrix_count_charge_test[\"charge\"] = ccs_df_test[\"Charge\"]"
   ]
  },
  {
   "cell_type": "code",
   "execution_count": 207,
   "id": "ef9dadd5",
   "metadata": {},
   "outputs": [
    {
     "data": {
      "text/html": [
       "<style>#sk-container-id-16 {color: black;background-color: white;}#sk-container-id-16 pre{padding: 0;}#sk-container-id-16 div.sk-toggleable {background-color: white;}#sk-container-id-16 label.sk-toggleable__label {cursor: pointer;display: block;width: 100%;margin-bottom: 0;padding: 0.3em;box-sizing: border-box;text-align: center;}#sk-container-id-16 label.sk-toggleable__label-arrow:before {content: \"▸\";float: left;margin-right: 0.25em;color: #696969;}#sk-container-id-16 label.sk-toggleable__label-arrow:hover:before {color: black;}#sk-container-id-16 div.sk-estimator:hover label.sk-toggleable__label-arrow:before {color: black;}#sk-container-id-16 div.sk-toggleable__content {max-height: 0;max-width: 0;overflow: hidden;text-align: left;background-color: #f0f8ff;}#sk-container-id-16 div.sk-toggleable__content pre {margin: 0.2em;color: black;border-radius: 0.25em;background-color: #f0f8ff;}#sk-container-id-16 input.sk-toggleable__control:checked~div.sk-toggleable__content {max-height: 200px;max-width: 100%;overflow: auto;}#sk-container-id-16 input.sk-toggleable__control:checked~label.sk-toggleable__label-arrow:before {content: \"▾\";}#sk-container-id-16 div.sk-estimator input.sk-toggleable__control:checked~label.sk-toggleable__label {background-color: #d4ebff;}#sk-container-id-16 div.sk-label input.sk-toggleable__control:checked~label.sk-toggleable__label {background-color: #d4ebff;}#sk-container-id-16 input.sk-hidden--visually {border: 0;clip: rect(1px 1px 1px 1px);clip: rect(1px, 1px, 1px, 1px);height: 1px;margin: -1px;overflow: hidden;padding: 0;position: absolute;width: 1px;}#sk-container-id-16 div.sk-estimator {font-family: monospace;background-color: #f0f8ff;border: 1px dotted black;border-radius: 0.25em;box-sizing: border-box;margin-bottom: 0.5em;}#sk-container-id-16 div.sk-estimator:hover {background-color: #d4ebff;}#sk-container-id-16 div.sk-parallel-item::after {content: \"\";width: 100%;border-bottom: 1px solid gray;flex-grow: 1;}#sk-container-id-16 div.sk-label:hover label.sk-toggleable__label {background-color: #d4ebff;}#sk-container-id-16 div.sk-serial::before {content: \"\";position: absolute;border-left: 1px solid gray;box-sizing: border-box;top: 0;bottom: 0;left: 50%;z-index: 0;}#sk-container-id-16 div.sk-serial {display: flex;flex-direction: column;align-items: center;background-color: white;padding-right: 0.2em;padding-left: 0.2em;position: relative;}#sk-container-id-16 div.sk-item {position: relative;z-index: 1;}#sk-container-id-16 div.sk-parallel {display: flex;align-items: stretch;justify-content: center;background-color: white;position: relative;}#sk-container-id-16 div.sk-item::before, #sk-container-id-16 div.sk-parallel-item::before {content: \"\";position: absolute;border-left: 1px solid gray;box-sizing: border-box;top: 0;bottom: 0;left: 50%;z-index: -1;}#sk-container-id-16 div.sk-parallel-item {display: flex;flex-direction: column;z-index: 1;position: relative;background-color: white;}#sk-container-id-16 div.sk-parallel-item:first-child::after {align-self: flex-end;width: 50%;}#sk-container-id-16 div.sk-parallel-item:last-child::after {align-self: flex-start;width: 50%;}#sk-container-id-16 div.sk-parallel-item:only-child::after {width: 0;}#sk-container-id-16 div.sk-dashed-wrapped {border: 1px dashed gray;margin: 0 0.4em 0.5em 0.4em;box-sizing: border-box;padding-bottom: 0.4em;background-color: white;}#sk-container-id-16 div.sk-label label {font-family: monospace;font-weight: bold;display: inline-block;line-height: 1.2em;}#sk-container-id-16 div.sk-label-container {text-align: center;}#sk-container-id-16 div.sk-container {/* jupyter's `normalize.less` sets `[hidden] { display: none; }` but bootstrap.min.css set `[hidden] { display: none !important; }` so we also need the `!important` here to be able to override the default hidden behavior on the sphinx rendered scikit-learn.org. See: https://github.com/scikit-learn/scikit-learn/issues/21755 */display: inline-block !important;position: relative;}#sk-container-id-16 div.sk-text-repr-fallback {display: none;}</style><div id=\"sk-container-id-16\" class=\"sk-top-container\"><div class=\"sk-text-repr-fallback\"><pre>XGBRegressor(base_score=0.5, booster=&#x27;gbtree&#x27;, callbacks=None,\n",
       "             colsample_bylevel=1, colsample_bynode=1, colsample_bytree=1,\n",
       "             early_stopping_rounds=None, enable_categorical=False,\n",
       "             eval_metric=None, gamma=0, gpu_id=-1, grow_policy=&#x27;depthwise&#x27;,\n",
       "             importance_type=None, interaction_constraints=&#x27;&#x27;,\n",
       "             learning_rate=0.300000012, max_bin=256, max_cat_to_onehot=4,\n",
       "             max_delta_step=0, max_depth=12, max_leaves=0, min_child_weight=1,\n",
       "             missing=nan, monotone_constraints=&#x27;()&#x27;, n_estimators=250, n_jobs=0,\n",
       "             num_parallel_tree=1, predictor=&#x27;auto&#x27;, random_state=0, reg_alpha=0,\n",
       "             reg_lambda=1, ...)</pre><b>In a Jupyter environment, please rerun this cell to show the HTML representation or trust the notebook. <br />On GitHub, the HTML representation is unable to render, please try loading this page with nbviewer.org.</b></div><div class=\"sk-container\" hidden><div class=\"sk-item\"><div class=\"sk-estimator sk-toggleable\"><input class=\"sk-toggleable__control sk-hidden--visually\" id=\"sk-estimator-id-16\" type=\"checkbox\" checked><label for=\"sk-estimator-id-16\" class=\"sk-toggleable__label sk-toggleable__label-arrow\">XGBRegressor</label><div class=\"sk-toggleable__content\"><pre>XGBRegressor(base_score=0.5, booster=&#x27;gbtree&#x27;, callbacks=None,\n",
       "             colsample_bylevel=1, colsample_bynode=1, colsample_bytree=1,\n",
       "             early_stopping_rounds=None, enable_categorical=False,\n",
       "             eval_metric=None, gamma=0, gpu_id=-1, grow_policy=&#x27;depthwise&#x27;,\n",
       "             importance_type=None, interaction_constraints=&#x27;&#x27;,\n",
       "             learning_rate=0.300000012, max_bin=256, max_cat_to_onehot=4,\n",
       "             max_delta_step=0, max_depth=12, max_leaves=0, min_child_weight=1,\n",
       "             missing=nan, monotone_constraints=&#x27;()&#x27;, n_estimators=250, n_jobs=0,\n",
       "             num_parallel_tree=1, predictor=&#x27;auto&#x27;, random_state=0, reg_alpha=0,\n",
       "             reg_lambda=1, ...)</pre></div></div></div></div></div>"
      ],
      "text/plain": [
       "XGBRegressor(base_score=0.5, booster='gbtree', callbacks=None,\n",
       "             colsample_bylevel=1, colsample_bynode=1, colsample_bytree=1,\n",
       "             early_stopping_rounds=None, enable_categorical=False,\n",
       "             eval_metric=None, gamma=0, gpu_id=-1, grow_policy='depthwise',\n",
       "             importance_type=None, interaction_constraints='',\n",
       "             learning_rate=0.300000012, max_bin=256, max_cat_to_onehot=4,\n",
       "             max_delta_step=0, max_depth=12, max_leaves=0, min_child_weight=1,\n",
       "             missing=nan, monotone_constraints='()', n_estimators=250, n_jobs=0,\n",
       "             num_parallel_tree=1, predictor='auto', random_state=0, reg_alpha=0,\n",
       "             reg_lambda=1, ...)"
      ]
     },
     "execution_count": 207,
     "metadata": {},
     "output_type": "execute_result"
    }
   ],
   "source": [
    "# Initialize the XGB object\n",
    "xgb_model = XGBRegressor(\n",
    "                max_depth=12,\n",
    "                n_estimators=250\n",
    ")\n",
    "\n",
    "# Fit the XGB model\n",
    "xgb_model.fit(\n",
    "    X=X_matrix_count_charge_train,\n",
    "    y=ccs_df_train.loc[:,\"CCS\"]\n",
    ")"
   ]
  },
  {
   "cell_type": "code",
   "execution_count": 208,
   "id": "0661e121",
   "metadata": {},
   "outputs": [
    {
     "data": {
      "image/png": "[encoded data removed]",
      "text/plain": [
       "<Figure size 432x288 with 1 Axes>"
      ]
     },
     "metadata": {
      "needs_background": "light"
     },
     "output_type": "display_data"
    }
   ],
   "source": [
    "if len(ccs_df.index) < 1e4:\n",
    "    set_alpha = 0.2\n",
    "    set_size = 3\n",
    "else:\n",
    "    set_alpha = 0.05\n",
    "    set_size = 1\n",
    "\n",
    "# Scatter plot the observations on the test set against the predictions on the same set\n",
    "plt.scatter(\n",
    "    ccs_df_test.loc[ccs_df_test[\"Charge\"]==2,\"CCS\"],\n",
    "    xgb_model.predict(X=X_matrix_count_charge_test.loc[ccs_df_test[\"Charge\"]==2,:]),\n",
    "    alpha=set_alpha,\n",
    "    s=set_size,\n",
    "    label=\"Z=2\")\n",
    "\n",
    "plt.scatter(\n",
    "    xgb_model.predict(X=X_matrix_count_charge_test.loc[ccs_df_test[\"Charge\"]==3,:]),\n",
    "    ccs_df_test.loc[ccs_df_test[\"Charge\"]==3,\"CCS\"],\n",
    "    alpha=set_alpha,\n",
    "    s=set_size,\n",
    "    label=\"Z=3\"\n",
    ")\n",
    "\n",
    "plt.scatter(\n",
    "    xgb_model.predict(X=X_matrix_count_charge_test.loc[ccs_df_test[\"Charge\"]==4,:]),\n",
    "    ccs_df_test.loc[ccs_df_test[\"Charge\"]==4,\"CCS\"],\n",
    "    alpha=set_alpha,\n",
    "    s=set_size,\n",
    "    label=\"Z=4\"\n",
    ")\n",
    "\n",
    "# Plot a diagonal the points should be one\n",
    "plt.plot([300,1100],[300,1100],c=\"grey\")\n",
    "\n",
    "legend = plt.legend()\n",
    "\n",
    "for lh in legend.legendHandles:\n",
    "    lh.set_sizes([25])\n",
    "    lh.set_alpha(1)\n",
    "    \n",
    "# Get the predictions and calculate performance metrics\n",
    "predictions = xgb_model.predict(X_matrix_count_charge_test)\n",
    "mare = round(sum((abs(predictions-ccs_df_test.loc[:,\"CCS\"])/ccs_df_test.loc[:,\"CCS\"])*100)/len(predictions),3)\n",
    "pcc = round(pearsonr(predictions,ccs_df_test.loc[:,\"CCS\"])[0],3)\n",
    "perc_95 = round(np.percentile((abs(predictions-ccs_df_test.loc[:,\"CCS\"])/ccs_df_test.loc[:,\"CCS\"])*100,95)*2,2)\n",
    "\n",
    "plt.title(f\"XGBoost - PCC: {pcc} - MARE: {mare}% - 95th percentile: {perc_95}%\")\n",
    "\n",
    "ax = plt.gca()\n",
    "ax.set_aspect('equal')\n",
    "\n",
    "plt.xlabel(\"Observed CCS (^2)\")\n",
    "plt.ylabel(\"Predicted CCS (^2)\")\n",
    "\n",
    "plt.show()"
   ]
  },
  {
   "cell_type": "markdown",
   "id": "1d4939c7",
   "metadata": {},
   "source": [
    "## Training a deep learning LSTM model for CCS prediction"
   ]
  },
  {
   "cell_type": "markdown",
   "id": "fa371dbe",
   "metadata": {},
   "source": [
    "The deviation on the diagonal has been decreased significantly. But... A decision tree based algorithm is usually not the best for a regression model. Since the target data is continuous a model that can respect this structure is likely to perform better. Furthermore, up till now we simply counted amino acids, but structure is important. So to get the most out of the data we need to use the exact positions of amino acids."
   ]
  },
  {
   "cell_type": "markdown",
   "id": "65ec5856",
   "metadata": {},
   "source": [
    "Also... We have a lot of data it makes sense to use deep learning (DL). DL models are usually capable of learning more complex relations than traditional algorithms. Furthormore, for traditional ML algorithms we usually need to engineer features, while DL can usually work directly from raw data. DL is able to construct its own features."
   ]
  },
  {
   "cell_type": "code",
   "execution_count": 209,
   "id": "e3d0a8ac",
   "metadata": {},
   "outputs": [],
   "source": [
    "from tensorflow.keras.layers import Dense, concatenate, Input, Bidirectional, LSTM\n",
    "from tensorflow.keras.models import Model\n",
    "import tensorflow as tf"
   ]
  },
  {
   "cell_type": "markdown",
   "id": "ef7a9910",
   "metadata": {},
   "source": [
    "As mentioned before, we want to use features that can also tell us something about the potential structure of the peptide. This means we need to take the sequence of the peptide into account and not just the amino acid counts. For this we will use a 'one-hot encoding', in this matrix each position in the peptide are the columns (number of columns equals the length of the peptide) and each amino acid per position has its own row (for the standard amino acids this is 20). So as a result we create a matrix that is the length of the peptide by the amount of unique amino acids in the whole data set. For each position we indicate the presence with a '1' and absence with '0'. As a result the sum of each columnn is '1' and the sum of the whole matrix equals the length of the peptide."
   ]
  },
  {
   "cell_type": "code",
   "execution_count": 210,
   "id": "ca59861f",
   "metadata": {},
   "outputs": [],
   "source": [
    "def aa_seq_to_one_hot(seq,padding_length=60):\n",
    "    # Although padding is not needed for an LSTM, we might need it if we for example apply a CNN\n",
    "    # Calculate how much padding is needed\n",
    "    seq_len = len(seq)\n",
    "    if seq_len > padding_length:\n",
    "        seq = seq[0:padding_length]\n",
    "        seq_len = len(seq)\n",
    "\n",
    "    # Add padding for peptides that are too short\n",
    "    padding = \"\".join([\"X\"] * (padding_length - len(seq)))\n",
    "    seq = seq + padding\n",
    "\n",
    "    # Initialize all feature matrix\n",
    "    matrix_hc = np.zeros(\n",
    "        (len(aa_to_pos.keys()), len(seq)), dtype=np.int8)\n",
    "    \n",
    "    # Fill the one-hot matrix, when we encounter an 'X' it should be the end of the sequence\n",
    "    for idx,aa in enumerate(seq):\n",
    "        if aa == \"X\":\n",
    "            break\n",
    "        matrix_hc[aa_to_pos[aa],idx] = 1\n",
    "    \n",
    "    return matrix_hc"
   ]
  },
  {
   "cell_type": "code",
   "execution_count": 211,
   "id": "6d864cd5",
   "metadata": {},
   "outputs": [],
   "source": [
    "# Calculate the one-hot matrices and stack them\n",
    "# Result is a 3D matrix where the first dimension is each peptide, and then the last two dims are the one-hot matrix\n",
    "one_hot_encoded_train = np.stack(ccs_df_train[\"sequence\"].apply(aa_seq_to_one_hot).values)\n",
    "one_hot_encoded_test = np.stack(ccs_df_test[\"sequence\"].apply(aa_seq_to_one_hot).values)"
   ]
  },
  {
   "cell_type": "code",
   "execution_count": 214,
   "id": "5c9f3948",
   "metadata": {
    "scrolled": true
   },
   "outputs": [
    {
     "name": "stdout",
     "output_type": "stream",
     "text": [
      "Epoch 1/10\n",
      "4550/4550 [==============================] - 108s 23ms/step - loss: 5536.7256 - val_loss: 467.1984\n",
      "Epoch 2/10\n",
      "4550/4550 [==============================] - 102s 22ms/step - loss: 436.4136 - val_loss: 403.9187\n",
      "Epoch 3/10\n",
      "4550/4550 [==============================] - 100s 22ms/step - loss: 395.7551 - val_loss: 384.5470\n",
      "Epoch 4/10\n",
      "4550/4550 [==============================] - 103s 23ms/step - loss: 376.4315 - val_loss: 382.0145\n",
      "Epoch 5/10\n",
      "4550/4550 [==============================] - 102s 23ms/step - loss: 364.8819 - val_loss: 395.8338\n",
      "Epoch 6/10\n",
      "4550/4550 [==============================] - 106s 23ms/step - loss: 357.4092 - val_loss: 355.8185\n",
      "Epoch 7/10\n",
      "4550/4550 [==============================] - 104s 23ms/step - loss: 342.5216 - val_loss: 312.9571\n",
      "Epoch 8/10\n",
      "4550/4550 [==============================] - 104s 23ms/step - loss: 275.4517 - val_loss: 274.8963\n",
      "Epoch 9/10\n",
      "4550/4550 [==============================] - 110s 24ms/step - loss: 253.2955 - val_loss: 252.0118\n",
      "Epoch 10/10\n",
      "4550/4550 [==============================] - 105s 23ms/step - loss: 240.6064 - val_loss: 260.1613\n"
     ]
    }
   ],
   "source": [
    "if len(ccs_df.index) < 1e4:\n",
    "    epochs = 100\n",
    "    num_lstm = 12\n",
    "    batch_size = 128\n",
    "else:\n",
    "    batch_size = 1024\n",
    "    epochs = 10\n",
    "    num_lstm = 64\n",
    "\n",
    "batch_size = 128\n",
    "v_split    = 0.1\n",
    "optimizer  = \"adam\"\n",
    "loss       = \"mean_squared_error\"\n",
    "\n",
    "# The architecture chosen consists of two inputs: (1) the one-hot matrix and (2) the charge\n",
    "# The first part is a biderectional LSTM (a), in paralel we have dense layers containing the charge (b)\n",
    "# Both a and b are concatenated to go through several dense layers (c)\n",
    "input_a = Input(shape=(None, one_hot_encoded_train.shape[2]))\n",
    "a = Bidirectional(LSTM(num_lstm,return_sequences=True))(input_a)\n",
    "a = Bidirectional(LSTM(num_lstm))(a)\n",
    "a = Model(inputs=input_a, outputs=a)\n",
    "\n",
    "input_b = Input(shape=(1,))\n",
    "b = Dense(5, activation=\"relu\")(input_b)\n",
    "b = Model(inputs=input_b, outputs=b)\n",
    "\n",
    "c = concatenate([a.output, b.output],axis=-1)\n",
    "\n",
    "c = Dense(64, activation=\"relu\")(c)\n",
    "c = Dense(32, activation=\"relu\")(c)\n",
    "c = Dense(1, activation=\"relu\")(c)\n",
    "\n",
    "# Create the model with specified inputs and outputs\n",
    "model = Model(inputs=[a.input, b.input], outputs=c)\n",
    "\n",
    "model.compile(optimizer=optimizer, loss=loss)\n",
    "\n",
    "# Fit the model on the training data\n",
    "history = model.fit(\n",
    "            (one_hot_encoded_train,ccs_df_train.loc[:,\"Charge\"]),\n",
    "            ccs_df_train.loc[:,\"CCS\"],\n",
    "            epochs=epochs, \n",
    "            batch_size=batch_size,\n",
    "            validation_split=v_split\n",
    ")"
   ]
  },
  {
   "cell_type": "code",
   "execution_count": 215,
   "id": "49982f89",
   "metadata": {},
   "outputs": [
    {
     "name": "stdout",
     "output_type": "stream",
     "text": [
      "2247/2247 [==============================] - 20s 8ms/step\n"
     ]
    }
   ],
   "source": [
    "# Predict CCS values test set\n",
    "ccs_df_test[\"LSTM_predictions\"] = model.predict((one_hot_encoded_test,ccs_df_test.loc[:,\"Charge\"]))"
   ]
  },
  {
   "cell_type": "code",
   "execution_count": 216,
   "id": "3747a0a1",
   "metadata": {},
   "outputs": [
    {
     "data": {
      "image/png": "[encoded data removed]",
      "text/plain": [
       "<Figure size 432x288 with 1 Axes>"
      ]
     },
     "metadata": {
      "needs_background": "light"
     },
     "output_type": "display_data"
    }
   ],
   "source": [
    "if len(ccs_df.index) < 1e4:\n",
    "    set_alpha = 0.2\n",
    "    set_size = 3\n",
    "else:\n",
    "    set_alpha = 0.05\n",
    "    set_size = 1\n",
    "\n",
    "# Scatter plot the observations on the test set against the predictions on the same set\n",
    "plt.scatter(\n",
    "    ccs_df_test.loc[ccs_df_test[\"Charge\"]==2,\"CCS\"],\n",
    "    ccs_df_test.loc[ccs_df_test[\"Charge\"]==2,\"LSTM_predictions\"],\n",
    "    alpha=set_alpha,\n",
    "    s=set_size,\n",
    "    label=\"Z=2\"\n",
    ")\n",
    "\n",
    "plt.scatter(\n",
    "    ccs_df_test.loc[ccs_df_test[\"Charge\"]==3,\"CCS\"],\n",
    "    ccs_df_test.loc[ccs_df_test[\"Charge\"]==3,\"LSTM_predictions\"],\n",
    "    alpha=set_alpha,\n",
    "    s=set_size,\n",
    "    label=\"Z=3\"\n",
    ")\n",
    "\n",
    "plt.scatter(\n",
    "    ccs_df_test.loc[ccs_df_test[\"Charge\"]==4,\"CCS\"],\n",
    "    ccs_df_test.loc[ccs_df_test[\"Charge\"]==4,\"LSTM_predictions\"],\n",
    "    alpha=set_alpha,\n",
    "    s=set_size,\n",
    "    label=\"Z=4\"\n",
    ")\n",
    "\n",
    "# Plot a diagonal the points should be one\n",
    "plt.plot([300,1100],[300,1100],c=\"grey\")\n",
    "\n",
    "legend = plt.legend()\n",
    "\n",
    "for lh in legend.legendHandles:\n",
    "    lh.set_sizes([25])\n",
    "    lh.set_alpha(1)\n",
    "\n",
    "# Get the predictions and calculate performance metrics\n",
    "predictions = ccs_df_test[\"LSTM_predictions\"]\n",
    "mare = round(sum((abs(predictions-ccs_df_test.loc[:,\"CCS\"])/ccs_df_test.loc[:,\"CCS\"])*100)/len(predictions),3)\n",
    "pcc = round(pearsonr(predictions,ccs_df_test.loc[:,\"CCS\"])[0],3)\n",
    "perc_95 = round(np.percentile((abs(predictions-ccs_df_test.loc[:,\"CCS\"])/ccs_df_test.loc[:,\"CCS\"])*100,95)*2,2)\n",
    "\n",
    "plt.title(f\"LSTM - PCC: {pcc} - MARE: {mare}% - 95th percentile: {perc_95}%\")\n",
    "\n",
    "ax = plt.gca()\n",
    "ax.set_aspect('equal')\n",
    "\n",
    "plt.xlabel(\"Observed CCS (^2)\")\n",
    "plt.ylabel(\"Predicted CCS (^2)\")\n",
    "\n",
    "plt.show()"
   ]
  },
  {
   "cell_type": "markdown",
   "id": "226ba2b1",
   "metadata": {},
   "source": [
    "It is clear that the performance of this model is much better. But... Performance can be improved a lot more by for example tuning hyperparameters like the network architecture or number of epochs."
   ]
  },
  {
   "cell_type": "markdown",
   "id": "44a4ea9e",
   "metadata": {},
   "source": [
    "Hope you enjoyed this tutorial! Feel free to edit it and make a pull request!"
   ]
  }
 ],
 "metadata": {
  "kernelspec": {
   "display_name": "Python 3.9.7 ('base')",
   "language": "python",
   "name": "python3"
  },
  "language_info": {
   "codemirror_mode": {
    "name": "ipython",
    "version": 3
   },
   "file_extension": ".py",
   "mimetype": "text/x-python",
   "name": "python",
   "nbconvert_exporter": "python",
   "pygments_lexer": "ipython3",
   "version": "3.9.7"
  },
  "vscode": {
   "interpreter": {
    "hash": "0c339fba8800f289223ed8cfd6e3b81401a206d437a496d69810d81cfdc690c7"
   }
  }
 },
 "nbformat": 4,
 "nbformat_minor": 5
}
