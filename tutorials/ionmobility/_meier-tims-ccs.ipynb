{
 "cells": [
  {
   "cell_type": "markdown",
   "id": "11aa1723",
   "metadata": {},
   "source": [
    "---\n",
    "title: \"Predicting CCS values for TIMS data\"\n",
    "\n",
    "date: last-modified\n",
    "\n",
    "author:\n",
    "\n",
    "- name: Robbin Bouwmeester\n",
    "\n",
    "  orcid: 0000-0001-6807-7029\n",
    "\n",
    "  affiliations:\n",
    "    - VIB-UGent Center for Medical Biotechnology, VIB, Belgium\n",
    "    - Department of Biomolecular Medicine, Ghent University, Belgium\n",
    "\n",
    "---\n",
    "\n",
    "[![](https://colab.research.google.com/assets/colab-badge.svg)](https://colab.research.google.com/github/ProteomicsML/ProteomicsML/blob/main/tutorials/ionmobility/_meier-tims-ccs.ipynb)"
   ]
  },
  {
   "cell_type": "markdown",
   "id": "48c6cd3d",
   "metadata": {},
   "source": [
    "## Introduction\n",
    "\n",
    "Ion mobility is a technique to separate ionized analytes based on their size, shape, and physicochemical properties. Initially the techniques for ion mobility propelled the ions with an electric field through a cell with inert gas. The ions collide with the inert gas without fragmentation. Separation is achieved by propelling the ions faster or slower in the electric field (i.e., based on their charge) and are slowed down by the collisions with the gas (i.e., based on shape and size). Trapped ion mobility (TIMS) reverses this operation by trapping the ions in an electric field and forcing them forward by collision with the gas. From any of the different ion mobility techniques you are able to derive the collisional cross section (CCS) in Angstrom squared. In this notebook you can follow a short tutorial on how to train a Machine Learning model for the prediction of these CCS values."
   ]
  },
  {
   "cell_type": "code",
   "execution_count": null,
   "id": "db9040cf",
   "metadata": {},
   "outputs": [],
   "source": [
    "import pandas as pd\n",
    "from matplotlib import pyplot as plt\n",
    "from collections import Counter\n",
    "from scipy.stats import pearsonr\n",
    "\n",
    "vol_dict = {\"A\" : 88.6,\n",
    "            \"B\" : 0.0,\n",
    "            \"O\" : 0.0,\n",
    "            \"X\" : 0.0,\n",
    "            \"J\" : 0.0,\n",
    "            \"R\" : 173.4,\n",
    "            \"N\" : 114.1,\n",
    "            \"D\" : 111.1,\n",
    "            \"C\" : 108.5,\n",
    "            \"Q\" : 143.8,\n",
    "            \"E\" : 138.4,\n",
    "            \"G\" : 60.1,\n",
    "            \"H\" : 153.2,\n",
    "            \"I\" : 166.7,\n",
    "            \"L\" : 166.7,\n",
    "            \"K\" : 168.6,\n",
    "            \"M\" : 162.9,\n",
    "            \"F\" : 189.9,\n",
    "            \"P\" : 112.7,\n",
    "            \"S\" : 89.0,\n",
    "            \"T\" : 116.1,\n",
    "            \"W\" : 227.8,\n",
    "            \"Y\" : 193.6,\n",
    "            \"V\" : 140}\n",
    "\n",
    "aa_to_pos = dict(zip(vol_dict.keys(),range(len(vol_dict.keys()))))"
   ]
  },
  {
   "cell_type": "markdown",
   "id": "9779d83a",
   "metadata": {},
   "source": [
    "## Data reading and preparation"
   ]
  },
  {
   "cell_type": "markdown",
   "id": "a2f7fcd9",
   "metadata": {},
   "source": [
    "Read the training data from [Meier et al.](https://doi.org/10.1038/s41467-021-21352-8)"
   ]
  },
  {
   "cell_type": "code",
   "execution_count": null,
   "id": "6b42e744",
   "metadata": {},
   "outputs": [],
   "source": [
    "ccs_df = pd.read_csv(\"https://github.com/ProteomicsML/IonMobility/blob/main/datasets/Meier_IM_CCS/combined_sm.zip?raw=true\", compression=\"zip\", index_col=0)"
   ]
  },
  {
   "cell_type": "markdown",
   "id": "0aaf8314",
   "metadata": {},
   "source": [
    "Execute the cell below to read a smaller data set from [Van Puyvelde et al.](https://www.nature.com/articles/s41597-022-01216-6). Remove all the \"#\" to read this smaller data set. On for example colab it is recommended to load this smaller data set. Please do note that the description is based on the larger data set. It is expected that more complex models do not benefit at the same rate from the smaller data set (e.g., the deep learning network). Hans Vissers from Waters analyzed this traveling wave IM data:"
   ]
  },
  {
   "cell_type": "code",
   "execution_count": null,
   "id": "1e6b9b66",
   "metadata": {},
   "outputs": [],
   "source": [
    "#ccs_df = pd.read_csv(\n",
    "#    \"https://raw.githubusercontent.com/ProteomicsML/IonMobility/main/datasets/VanPuyvelde_TWIMS_CCS/TWIMSpeptideCCS.tsv\",\n",
    "#    low_memory=False,\n",
    "#    sep=\"\\t\"\n",
    "#)"
   ]
  },
  {
   "cell_type": "markdown",
   "id": "8ad1dffa",
   "metadata": {},
   "source": [
    "A small summarization of the data that was just read:"
   ]
  },
  {
   "cell_type": "code",
   "execution_count": null,
   "id": "83646355",
   "metadata": {},
   "outputs": [],
   "source": [
    "ccs_df.describe()"
   ]
  },
  {
   "cell_type": "code",
   "execution_count": null,
   "id": "6f13c77e",
   "metadata": {},
   "outputs": [],
   "source": [
    "ccs_df"
   ]
  },
  {
   "cell_type": "markdown",
   "id": "b64d336e",
   "metadata": {},
   "source": [
    "Prepare the data to not contain any \\\"_\\\" characters or modifications in between \\[ \\]:"
   ]
  },
  {
   "cell_type": "code",
   "execution_count": null,
   "id": "beef281b",
   "metadata": {},
   "outputs": [],
   "source": [
    "# Strip \"_\" from sequence\n",
    "ccs_df[\"sequence\"] = ccs_df[\"Modified sequence\"].str.strip(\"_\")\n",
    "\n",
    "# Strip everything between \"()\" and \"[]\" from sequence\n",
    "ccs_df[\"sequence\"] = ccs_df[\"sequence\"].str.replace(r\"[\\(\\[].*?[\\)\\]]\", \"\", regex=True)"
   ]
  },
  {
   "cell_type": "markdown",
   "id": "d502058f",
   "metadata": {},
   "source": [
    "Count the occurence of amino acids, those that did not get detected; repace with 0"
   ]
  },
  {
   "cell_type": "code",
   "execution_count": null,
   "id": "96b56e8c",
   "metadata": {},
   "outputs": [],
   "source": [
    "# Apply counter to each sequence, fill NA with 0.0, make matrix from counts\n",
    "X_matrix_count = pd.DataFrame(ccs_df[\"sequence\"].apply(Counter).to_dict()).fillna(0.0).T"
   ]
  },
  {
   "cell_type": "code",
   "execution_count": null,
   "id": "6bc40dd6",
   "metadata": {},
   "outputs": [],
   "source": [
    "X_matrix_count"
   ]
  },
  {
   "cell_type": "markdown",
   "id": "533ee8f8",
   "metadata": {},
   "source": [
    "A fairly rudimentary technique is to use the volume of each amino acid and sum these volumes:"
   ]
  },
  {
   "cell_type": "code",
   "execution_count": null,
   "id": "8eb65502",
   "metadata": {},
   "outputs": [],
   "source": [
    "def to_predicted_ccs(row):\n",
    "    vol_sum = sum([vol_dict[k]*v for k,v in row.to_dict().items()])    \n",
    "    return vol_sum\n",
    "\n",
    "ccs_df[\"predicted_CCS_vol_based\"] = X_matrix_count.apply(to_predicted_ccs,axis=1)"
   ]
  },
  {
   "cell_type": "markdown",
   "id": "bd4ada3e",
   "metadata": {},
   "source": [
    "Lets see the results:"
   ]
  },
  {
   "cell_type": "code",
   "execution_count": null,
   "id": "7cdc6630",
   "metadata": {},
   "outputs": [],
   "source": [
    "if len(ccs_df.index) < 1e4:\n",
    "    set_alpha = 0.2\n",
    "    set_size = 3\n",
    "else:\n",
    "    set_alpha = 0.05\n",
    "    set_size = 1\n",
    "\n",
    "for c in range(2,5):\n",
    "    plt.scatter(\n",
    "        ccs_df.loc[ccs_df[\"Charge\"]==c,\"CCS\"],\n",
    "        ccs_df.loc[ccs_df[\"Charge\"]==c,\"predicted_CCS_vol_based\"],\n",
    "        alpha=set_alpha,\n",
    "        s=set_size, \n",
    "        label=\"Z=\"+str(c)\n",
    "    )\n",
    "\n",
    "legend = plt.legend()\n",
    "\n",
    "for lh in legend.legendHandles:\n",
    "    lh.set_sizes([25])\n",
    "    lh.set_alpha(1)\n",
    "\n",
    "plt.xlabel(\"Observed CCS (Angstrom^2)\")\n",
    "plt.xlabel(\"Predicted CCS (Angstrom^2)\")\n",
    "    \n",
    "plt.show()"
   ]
  },
  {
   "cell_type": "markdown",
   "id": "3e029632",
   "metadata": {},
   "source": [
    "Clear correlation, but seems we need to change the intercepts of each curve and make seperate predictions for each peptide charge state. In addition to these observations it seems that higher charge states have higher errors. This likely influenced by a large part by the relation between higher charge states and longer peptides. These longer peptides can deviate more from each other in terms of structures (and CCS). Instead of spending more time on this, lets have a look at a more ML-based approach."
   ]
  },
  {
   "cell_type": "markdown",
   "id": "c1272b6f",
   "metadata": {},
   "source": [
    "## Training a linear regression model for CCS prediction"
   ]
  },
  {
   "cell_type": "code",
   "execution_count": null,
   "id": "f61f9f0a",
   "metadata": {},
   "outputs": [],
   "source": [
    "from sklearn.linear_model import LinearRegression\n",
    "import numpy as np\n",
    "import random"
   ]
  },
  {
   "cell_type": "markdown",
   "id": "efb5bec8",
   "metadata": {},
   "source": [
    "In this section we will fit a linear regression model. This model is only able to fit a linear function between the features (sequence) and target (CCS). This linear model can be expressed as the following equation:\n",
    "\n",
    "$ Y = \\beta_0 + \\beta_1  X$\n",
    "\n",
    "Where $Y$ is a vector (/list) of all CCS values and X a matrix (/2-dimensional list) of all the amino acids counts. The intercept and weights of each features are learned so the predicted value ($\\hat{Y}$) is close to the observed outcome ($Y$). What is considered close and how this closeness between predictions and observations are minimized is not further discussed here. However, there is a rich amount of information available on the internet (e.g., https://www.coursera.org/learn/machine-learning)."
   ]
  },
  {
   "cell_type": "markdown",
   "id": "489790ec",
   "metadata": {},
   "source": [
    "First, we will split the matrix into 90\\% training peptides and 10\\% testing peptides. These testing peptides are very valuable in estimating model performance. Since the model has not seen these sequences before it cannot overfit on these particular examples."
   ]
  },
  {
   "cell_type": "code",
   "execution_count": null,
   "id": "b63e1230",
   "metadata": {},
   "outputs": [],
   "source": [
    "# Get all the index identifiers\n",
    "all_idx = list(X_matrix_count.index)\n",
    "random.seed(42)\n",
    "\n",
    "# Shuffle the index identifiers so we can randomly split them in a testing and training set\n",
    "random.shuffle(all_idx)\n",
    "\n",
    "# Select 90 % for training and the remaining 10 % for testing\n",
    "train_idx = all_idx[0:int(len(all_idx)*0.9)]\n",
    "test_idx = all_idx[int(len(all_idx)*0.9):]\n",
    "\n",
    "# Get the train and test indices and point to new variables\n",
    "ccs_df_train = ccs_df.loc[train_idx,:]\n",
    "ccs_df_test = ccs_df.loc[test_idx,:]\n",
    "\n",
    "# Also for the feature matrix get the train and test indices\n",
    "X_matrix_count_train = X_matrix_count.loc[train_idx,:]\n",
    "X_matrix_count_test = X_matrix_count.loc[test_idx,:]"
   ]
  },
  {
   "cell_type": "markdown",
   "id": "91ee18b8",
   "metadata": {},
   "source": [
    "Now lets start training the models. Although we could encode the charge as a feature here we separate all models to counter any charge to composition specific patterns."
   ]
  },
  {
   "cell_type": "code",
   "execution_count": null,
   "id": "1a73d4a2",
   "metadata": {},
   "outputs": [],
   "source": [
    "# Initialize a model object\n",
    "linear_model_z2 = LinearRegression()\n",
    "\n",
    "# Fit the initialized model object to our training data (only charge 2)\n",
    "linear_model_z2.fit(\n",
    "    X=X_matrix_count_train.loc[ccs_df_train[\"Charge\"]==2,:],\n",
    "    y=ccs_df_train.loc[ccs_df_train[\"Charge\"]==2,\"CCS\"]\n",
    ")\n",
    "\n",
    "# Repeat for the other two charge states\n",
    "linear_model_z3 = LinearRegression()\n",
    "linear_model_z3.fit(\n",
    "    X=X_matrix_count_train.loc[ccs_df_train[\"Charge\"]==3,:],\n",
    "    y=ccs_df_train.loc[ccs_df_train[\"Charge\"]==3,\"CCS\"]\n",
    ")\n",
    "\n",
    "linear_model_z4 = LinearRegression()\n",
    "linear_model_z4.fit(\n",
    "    X=X_matrix_count_train.loc[ccs_df_train[\"Charge\"]==4,:],\n",
    "    y=ccs_df_train.loc[ccs_df_train[\"Charge\"]==4,\"CCS\"]\n",
    ")"
   ]
  },
  {
   "cell_type": "markdown",
   "id": "a9832376",
   "metadata": {},
   "source": [
    "Now we can have a look at the coefficients $\\beta_1$ learned. These should be highly correlated with the previous experimentally determined volumetric observations for each amino acid:"
   ]
  },
  {
   "cell_type": "code",
   "execution_count": null,
   "id": "09928caf",
   "metadata": {},
   "outputs": [],
   "source": [
    "# Scatter plot the coefficients of each amino acid against their experimentally determined volumes\n",
    "plt.scatter(\n",
    "    linear_model_z2.coef_,\n",
    "    [vol_dict[v] for v in X_matrix_count.columns]\n",
    ")\n",
    "\n",
    "# Plot a diagonal line we expect the points to be on\n",
    "plt.plot(\n",
    "    [6.0,26.0],\n",
    "    [60.0,260],\n",
    "    c=\"grey\",\n",
    "    zorder=0\n",
    ")\n",
    "\n",
    "# Annotate each point with their respective amino acids\n",
    "for v,x,y in zip(X_matrix_count.columns,\n",
    "                 linear_model_z2.coef_,\n",
    "                 [vol_dict[v] for v in X_matrix_count.columns]):\n",
    "    \n",
    "    plt.annotate(v,(x+0.1,y+5.0))\n",
    "    \n",
    "plt.show()"
   ]
  },
  {
   "cell_type": "markdown",
   "id": "2cef7167",
   "metadata": {},
   "source": [
    "Observations are very similar. There are differences that could be cause by a multitude of reasons. For example, the difference between volumetric observations in the CCS cell is different or being part of a polypeptide chain changes the volume of the amino acid."
   ]
  },
  {
   "cell_type": "markdown",
   "id": "8bd6a8a8",
   "metadata": {},
   "source": [
    "Next we will plot the predictions of the test set and compare them with observational data. Note that we apply each charge model seperately."
   ]
  },
  {
   "cell_type": "code",
   "execution_count": null,
   "id": "ffd005f8",
   "metadata": {},
   "outputs": [],
   "source": [
    "if len(ccs_df.index) < 1e4:\n",
    "    set_alpha = 0.2\n",
    "    set_size = 3\n",
    "else:\n",
    "    set_alpha = 0.05\n",
    "    set_size = 1\n",
    "\n",
    "# Scatter plot the observations on the test set against the predictions on the same set (z=2)\n",
    "plt.scatter(\n",
    "    linear_model_z2.predict(X=X_matrix_count_test.loc[ccs_df[\"Charge\"]==2,:]),\n",
    "    ccs_df_test.loc[ccs_df[\"Charge\"]==2,\"CCS\"],\n",
    "    alpha=set_alpha,\n",
    "    s=set_size,\n",
    "    label=\"Z=2\"\n",
    ")\n",
    "\n",
    "# Scatter plot the observations on the test set against the predictions on the same set (z=3)\n",
    "plt.scatter(\n",
    "    linear_model_z3.predict(X=X_matrix_count_test.loc[ccs_df[\"Charge\"]==3,:]),\n",
    "    ccs_df_test.loc[ccs_df[\"Charge\"]==3,\"CCS\"],\n",
    "    alpha=set_alpha,\n",
    "    s=set_size,\n",
    "    label=\"Z=3\"\n",
    ")\n",
    "\n",
    "# Scatter plot the observations on the test set against the predictions on the same set (z=4)\n",
    "plt.scatter(\n",
    "    linear_model_z4.predict(X=X_matrix_count_test.loc[ccs_df[\"Charge\"]==4,:]),\n",
    "    ccs_df_test.loc[ccs_df[\"Charge\"]==4,\"CCS\"],\n",
    "    alpha=set_alpha,\n",
    "    s=set_size,\n",
    "    label=\"Z=4\"\n",
    ")\n",
    "\n",
    "# Plot a diagonal the points should be one\n",
    "plt.plot([300,1100],[300,1100],c=\"grey\")\n",
    "\n",
    "# Add a legend for the charge states\n",
    "legend = plt.legend()\n",
    "\n",
    "# Make sure the legend labels are visible and big enough\n",
    "for lh in legend.legendHandles:\n",
    "    lh.set_sizes([25])\n",
    "    lh.set_alpha(1)\n",
    "    \n",
    "# Get the predictions and calculate performance metrics\n",
    "predictions = linear_model_z2.predict(X_matrix_count_test.loc[ccs_df[\"Charge\"]==3,:])\n",
    "mare = round(sum((abs(predictions-ccs_df_test.loc[ccs_df[\"Charge\"]==3,\"CCS\"])/ccs_df_test.loc[ccs_df[\"Charge\"]==3,\"CCS\"])*100)/len(predictions),3)\n",
    "pcc = round(pearsonr(predictions,ccs_df_test.loc[ccs_df[\"Charge\"]==3,\"CCS\"])[0],3)\n",
    "perc_95 = round(np.percentile((abs(predictions-ccs_df_test.loc[ccs_df[\"Charge\"]==3,\"CCS\"])/ccs_df_test.loc[ccs_df[\"Charge\"]==3,\"CCS\"])*100,95)*2,2)\n",
    "\n",
    "plt.title(f\"Linear model - PCC: {pcc} - MARE: {mare}% - 95th percentile: {perc_95}% (z3 model for z3 observations)\")\n",
    "\n",
    "ax = plt.gca()\n",
    "ax.set_aspect('equal')\n",
    "\n",
    "plt.xlabel(\"Observed CCS (^2)\")\n",
    "plt.ylabel(\"Predicted CCS (^2)\")\n",
    "\n",
    "plt.show()"
   ]
  },
  {
   "cell_type": "markdown",
   "id": "a22a32c6",
   "metadata": {},
   "source": [
    "It is clear that the predictions and observations are on the diagonal. This means that they are very similar. However, there are still some differences between observations and predictions."
   ]
  },
  {
   "cell_type": "markdown",
   "id": "dcaf4029",
   "metadata": {},
   "source": [
    "In the previous example we trained models for charge state seperately. This is slightly inconvenient and other charge states might still be able to provide useful training examples. As long as the model corrects for the right charge state of course. In the next example we add charge state to the feature matrix. The linear model should be (partially...) able to account for the charge states of peptides."
   ]
  },
  {
   "cell_type": "code",
   "execution_count": null,
   "id": "b4fd9e0e",
   "metadata": {},
   "outputs": [],
   "source": [
    "# Make a new copy of feature matrix and add charge as a feature\n",
    "X_matrix_count_charge_train = X_matrix_count_train.copy()\n",
    "X_matrix_count_charge_train[\"charge\"] = ccs_df_train[\"Charge\"]\n",
    "\n",
    "X_matrix_count_charge_test = X_matrix_count_test.copy()\n",
    "X_matrix_count_charge_test[\"charge\"] = ccs_df_test[\"Charge\"]"
   ]
  },
  {
   "cell_type": "code",
   "execution_count": null,
   "id": "b11bc63a",
   "metadata": {},
   "outputs": [],
   "source": [
    "# Fit the linear model, but this time with the charge as a feature\n",
    "linear_model = LinearRegression()\n",
    "\n",
    "linear_model.fit(\n",
    "    X=X_matrix_count_charge_train,\n",
    "    y=ccs_df_train.loc[:,\"CCS\"]\n",
    ")"
   ]
  },
  {
   "cell_type": "code",
   "execution_count": null,
   "id": "b40ea5b0",
   "metadata": {},
   "outputs": [],
   "source": [
    "if len(ccs_df.index) < 1e4:\n",
    "    set_alpha = 0.2\n",
    "    set_size = 3\n",
    "else:\n",
    "    set_alpha = 0.05\n",
    "    set_size = 1\n",
    "\n",
    "# Scatter plot the observations on the test set against the predictions on the same set\n",
    "plt.scatter(\n",
    "    linear_model.predict(X=X_matrix_count_charge_test.loc[ccs_df[\"Charge\"]==2,:]),\n",
    "    ccs_df_test.loc[ccs_df[\"Charge\"]==2,\"CCS\"],\n",
    "    alpha=set_alpha,\n",
    "    s=1,\n",
    "    label=\"Z=2\"\n",
    ")\n",
    "\n",
    "plt.scatter(\n",
    "    linear_model.predict(X=X_matrix_count_charge_test.loc[ccs_df[\"Charge\"]==3,:]),\n",
    "    ccs_df_test.loc[ccs_df[\"Charge\"]==3,\"CCS\"],\n",
    "    alpha=set_alpha,\n",
    "    s=1,\n",
    "    label=\"Z=3\"\n",
    ")\n",
    "\n",
    "plt.scatter(\n",
    "    linear_model.predict(X=X_matrix_count_charge_test.loc[ccs_df[\"Charge\"]==4,:]),\n",
    "    ccs_df_test.loc[ccs_df[\"Charge\"]==4,\"CCS\"],\n",
    "    alpha=set_alpha,\n",
    "    s=set_size,\n",
    "    label=\"Z=4\"\n",
    ")\n",
    "\n",
    "# Plot a diagonal the points should be one\n",
    "plt.plot([300,1100],[300,1100],c=\"grey\")\n",
    "\n",
    "legend = plt.legend()\n",
    "\n",
    "for lh in legend.legendHandles:\n",
    "    lh.set_sizes([25])\n",
    "    lh.set_alpha(1)\n",
    "\n",
    "# Get the predictions and calculate performance metrics\n",
    "predictions = linear_model.predict(X=X_matrix_count_charge_test)\n",
    "mare = round(sum((abs(predictions-ccs_df_test.loc[:,\"CCS\"])/ccs_df_test.loc[:,\"CCS\"])*100)/len(predictions),3)\n",
    "pcc = round(pearsonr(predictions,ccs_df_test.loc[:,\"CCS\"])[0],3)\n",
    "perc_95 = round(np.percentile((abs(predictions-ccs_df_test.loc[:,\"CCS\"])/ccs_df_test.loc[:,\"CCS\"])*100,95)*2,2)\n",
    "\n",
    "plt.title(f\"Linear model - PCC: {pcc} - MARE: {mare}% - 95th percentile: {perc_95}%\")\n",
    "\n",
    "ax = plt.gca()\n",
    "ax.set_aspect('equal')\n",
    "\n",
    "plt.xlabel(\"Observed CCS (^2)\")\n",
    "plt.ylabel(\"Predicted CCS (^2)\")\n",
    "    \n",
    "plt.show()"
   ]
  },
  {
   "cell_type": "markdown",
   "id": "eb82e7f8",
   "metadata": {},
   "source": [
    "With this model we are capable to predict CCS values for all three charge states (maybe more; be careful with extrapolation). However, it also shows that both z3 and z4 are not optimally predicted. Especially z4 we can probably draw a line manually that provides better performance than the current model. The incapability of the model to correctly predict some of these values is largely due to the linear algorithm. With this algorithm we can only fit \"simple\" linear relations, but more complex relations are not modeled correctly. In the next section we will fit a non-linear model that is able to capture these complex relations better. However, keep in mind that more complex models are usually also able to overfit data better, resulting in poorer generalization performance."
   ]
  },
  {
   "cell_type": "markdown",
   "id": "ffc2b8ef",
   "metadata": {},
   "source": [
    "## Training an RF (non-linear) regression model for CCS prediction"
   ]
  },
  {
   "cell_type": "markdown",
   "id": "b14029ae",
   "metadata": {},
   "source": [
    "In this section we will fit a random forest (RF) regression model. We hope to fit some of the non-linear relations present in the data. The RF algorithm fits multiple decision trees, but what makes these trees different is the random selection of instances (peptides) and/or features (amino acid count). The predictions between the forest of trees can be averaged to obtain a single prediction per peptide (instead of multiple for the same peptide). Later we will see that the algorithm might actually not be suitable for fitting this type of data."
   ]
  },
  {
   "cell_type": "code",
   "execution_count": null,
   "id": "b6ddbb53",
   "metadata": {},
   "outputs": [],
   "source": [
    "from sklearn.ensemble import RandomForestRegressor"
   ]
  },
  {
   "cell_type": "code",
   "execution_count": null,
   "id": "762b5b02",
   "metadata": {},
   "outputs": [],
   "source": [
    "# Make a new copy of feature matrix and add charge as a feature\n",
    "X_matrix_count_charge_train = X_matrix_count_train.copy()\n",
    "X_matrix_count_charge_train[\"charge\"] = ccs_df_train[\"Charge\"]\n",
    "\n",
    "X_matrix_count_charge_test = X_matrix_count_test.copy()\n",
    "X_matrix_count_charge_test[\"charge\"] = ccs_df_test[\"Charge\"]"
   ]
  },
  {
   "cell_type": "code",
   "execution_count": null,
   "id": "7db671e2",
   "metadata": {},
   "outputs": [],
   "source": [
    "# Initialize a RF object, note the hyperparameters that the model will follow\n",
    "rf_model = RandomForestRegressor(\n",
    "                max_depth=20,\n",
    "                n_estimators=50,\n",
    "                n_jobs=-1\n",
    ")\n",
    "\n",
    "# Fit the RF model\n",
    "rf_model.fit(\n",
    "    X=X_matrix_count_charge_train,\n",
    "    y=ccs_df_train.loc[:,\"CCS\"]\n",
    ")"
   ]
  },
  {
   "cell_type": "code",
   "execution_count": null,
   "id": "8fa46231",
   "metadata": {},
   "outputs": [],
   "source": [
    "if len(ccs_df.index) < 1e4:\n",
    "    set_alpha = 0.2\n",
    "    set_size = 3\n",
    "else:\n",
    "    set_alpha = 0.05\n",
    "    set_size = 1\n",
    "\n",
    "# Scatter plot the observations on the test set against the predictions on the same set\n",
    "plt.scatter(\n",
    "    rf_model.predict(X=X_matrix_count_charge_test.loc[ccs_df_test[\"Charge\"]==2,:]),\n",
    "    ccs_df_test.loc[ccs_df_test[\"Charge\"]==2,\"CCS\"],\n",
    "    alpha=set_alpha,\n",
    "    s=set_size,\n",
    "    label=\"Z=2\"\n",
    ")\n",
    "\n",
    "plt.scatter(\n",
    "    rf_model.predict(X=X_matrix_count_charge_test.loc[ccs_df_test[\"Charge\"]==3,:]),\n",
    "    ccs_df_test.loc[ccs_df_test[\"Charge\"]==3,\"CCS\"],\n",
    "    alpha=set_alpha,\n",
    "    s=set_size,\n",
    "    label=\"Z=3\"\n",
    ")\n",
    "\n",
    "plt.scatter(\n",
    "    rf_model.predict(X=X_matrix_count_charge_test.loc[ccs_df_test[\"Charge\"]==4,:]),\n",
    "    ccs_df_test.loc[ccs_df_test[\"Charge\"]==4,\"CCS\"],\n",
    "    alpha=set_alpha,\n",
    "    s=set_size,\n",
    "    label=\"Z=4\"\n",
    ")\n",
    "\n",
    "# Plot a diagonal the points should be one\n",
    "plt.plot([300,1100],[300,1100],c=\"grey\")\n",
    "\n",
    "legend = plt.legend()\n",
    "\n",
    "for lh in legend.legendHandles:\n",
    "    lh.set_sizes([25])\n",
    "    lh.set_alpha(1)\n",
    "\n",
    "# Get the predictions and calculate performance metrics\n",
    "predictions = rf_model.predict(X=X_matrix_count_charge_test)\n",
    "mare = round(sum((abs(predictions-ccs_df_test.loc[:,\"CCS\"])/ccs_df_test.loc[:,\"CCS\"])*100)/len(predictions),3)\n",
    "pcc = round(pearsonr(predictions,ccs_df_test.loc[:,\"CCS\"])[0],3)\n",
    "perc_95 = round(np.percentile((abs(predictions-ccs_df_test.loc[:,\"CCS\"])/ccs_df_test.loc[:,\"CCS\"])*100,95)*2,2)\n",
    "\n",
    "plt.title(f\"RF - PCC: {pcc} - MARE: {mare}% - 95th percentile: {perc_95}%\")\n",
    "\n",
    "ax = plt.gca()\n",
    "ax.set_aspect('equal')\n",
    "\n",
    "plt.xlabel(\"Observed CCS (^2)\")\n",
    "plt.ylabel(\"Predicted CCS (^2)\")\n",
    "\n",
    "plt.show()"
   ]
  },
  {
   "cell_type": "markdown",
   "id": "b1f094c9",
   "metadata": {},
   "source": [
    "As can be observed the problem with z=4 splitting up is gone, probably due to the capability of RF to fit non-linear relations. However, we see quite a large deviation on the diagonal. One of the major causes of this problem is the exclusion of amino acid counts for the decision trees. Although this is fundamental to the inner workings of RF, it means that we cannot take the excluded amino acids into account and these values are likely to be replaced by average expected volume to other (non-excluded) amino acids. RF performs very well when features correlate, and predictions are not fully dependent on the inclusion of all features. Next we will look at a decision tree algorithm (XGBoost) that does not rely on the exclusion of features.\n",
    "\n",
    "PS note that you might be able to fit a much better model by using a much larger number of trees, but overall the problem largely remains, and it is better to choose an algorithm that respects/fits your data best."
   ]
  },
  {
   "cell_type": "markdown",
   "id": "bb20bd9f",
   "metadata": {},
   "source": [
    "## Training a XGBoost (non-linear) regression model for CCS prediction"
   ]
  },
  {
   "cell_type": "markdown",
   "id": "d5e8849d",
   "metadata": {},
   "source": [
    "In this section we will fit a XGBoost regression model. This algorithm works by training a sequence of underfitted models. Each model in the sequence receives the output of the previous decision tree models. This combination of trees allows to fit the data well without greatly overfitting it."
   ]
  },
  {
   "cell_type": "code",
   "execution_count": null,
   "id": "57398e56",
   "metadata": {},
   "outputs": [],
   "source": [
    "from xgboost import XGBRegressor"
   ]
  },
  {
   "cell_type": "code",
   "execution_count": null,
   "id": "56d79fa3",
   "metadata": {},
   "outputs": [],
   "source": [
    "# Make a new copy of feature matrix and add charge as a feature\n",
    "X_matrix_count_charge_train = X_matrix_count_train.copy()\n",
    "X_matrix_count_charge_train[\"charge\"] = ccs_df_train[\"Charge\"]\n",
    "\n",
    "X_matrix_count_charge_test = X_matrix_count_test.copy()\n",
    "X_matrix_count_charge_test[\"charge\"] = ccs_df_test[\"Charge\"]"
   ]
  },
  {
   "cell_type": "code",
   "execution_count": null,
   "id": "ef9dadd5",
   "metadata": {},
   "outputs": [],
   "source": [
    "# Initialize the XGB object\n",
    "xgb_model = XGBRegressor(\n",
    "                max_depth=12,\n",
    "                n_estimators=250\n",
    ")\n",
    "\n",
    "# Fit the XGB model\n",
    "xgb_model.fit(\n",
    "    X=X_matrix_count_charge_train,\n",
    "    y=ccs_df_train.loc[:,\"CCS\"]\n",
    ")"
   ]
  },
  {
   "cell_type": "code",
   "execution_count": null,
   "id": "0661e121",
   "metadata": {},
   "outputs": [],
   "source": [
    "if len(ccs_df.index) < 1e4:\n",
    "    set_alpha = 0.2\n",
    "    set_size = 3\n",
    "else:\n",
    "    set_alpha = 0.05\n",
    "    set_size = 1\n",
    "\n",
    "# Scatter plot the observations on the test set against the predictions on the same set\n",
    "plt.scatter(\n",
    "    ccs_df_test.loc[ccs_df_test[\"Charge\"]==2,\"CCS\"],\n",
    "    xgb_model.predict(X=X_matrix_count_charge_test.loc[ccs_df_test[\"Charge\"]==2,:]),\n",
    "    alpha=set_alpha,\n",
    "    s=set_size,\n",
    "    label=\"Z=2\")\n",
    "\n",
    "plt.scatter(\n",
    "    xgb_model.predict(X=X_matrix_count_charge_test.loc[ccs_df_test[\"Charge\"]==3,:]),\n",
    "    ccs_df_test.loc[ccs_df_test[\"Charge\"]==3,\"CCS\"],\n",
    "    alpha=set_alpha,\n",
    "    s=set_size,\n",
    "    label=\"Z=3\"\n",
    ")\n",
    "\n",
    "plt.scatter(\n",
    "    xgb_model.predict(X=X_matrix_count_charge_test.loc[ccs_df_test[\"Charge\"]==4,:]),\n",
    "    ccs_df_test.loc[ccs_df_test[\"Charge\"]==4,\"CCS\"],\n",
    "    alpha=set_alpha,\n",
    "    s=set_size,\n",
    "    label=\"Z=4\"\n",
    ")\n",
    "\n",
    "# Plot a diagonal the points should be one\n",
    "plt.plot([300,1100],[300,1100],c=\"grey\")\n",
    "\n",
    "legend = plt.legend()\n",
    "\n",
    "for lh in legend.legendHandles:\n",
    "    lh.set_sizes([25])\n",
    "    lh.set_alpha(1)\n",
    "    \n",
    "# Get the predictions and calculate performance metrics\n",
    "predictions = xgb_model.predict(X_matrix_count_charge_test)\n",
    "mare = round(sum((abs(predictions-ccs_df_test.loc[:,\"CCS\"])/ccs_df_test.loc[:,\"CCS\"])*100)/len(predictions),3)\n",
    "pcc = round(pearsonr(predictions,ccs_df_test.loc[:,\"CCS\"])[0],3)\n",
    "perc_95 = round(np.percentile((abs(predictions-ccs_df_test.loc[:,\"CCS\"])/ccs_df_test.loc[:,\"CCS\"])*100,95)*2,2)\n",
    "\n",
    "plt.title(f\"XGBoost - PCC: {pcc} - MARE: {mare}% - 95th percentile: {perc_95}%\")\n",
    "\n",
    "ax = plt.gca()\n",
    "ax.set_aspect('equal')\n",
    "\n",
    "plt.xlabel(\"Observed CCS (^2)\")\n",
    "plt.ylabel(\"Predicted CCS (^2)\")\n",
    "\n",
    "plt.show()"
   ]
  },
  {
   "cell_type": "markdown",
   "id": "1d4939c7",
   "metadata": {},
   "source": [
    "## Training a deep learning LSTM model for CCS prediction"
   ]
  },
  {
   "cell_type": "markdown",
   "id": "fa371dbe",
   "metadata": {},
   "source": [
    "The deviation on the diagonal has been decreased significantly. But... A decision tree based algorithm is usually not the best for a regression model. Since the target data is continuous a model that can respect this structure is likely to perform better. Furthermore, up till now we simply counted amino acids, but structure is important. So to get the most out of the data we need to use the exact positions of amino acids."
   ]
  },
  {
   "cell_type": "markdown",
   "id": "65ec5856",
   "metadata": {},
   "source": [
    "Also... We have a lot of data it makes sense to use deep learning (DL). DL models are usually capable of learning more complex relations than traditional algorithms. Furthormore, for traditional ML algorithms we usually need to engineer features, while DL can usually work directly from raw data. DL is able to construct its own features."
   ]
  },
  {
   "cell_type": "code",
   "execution_count": null,
   "id": "e3d0a8ac",
   "metadata": {},
   "outputs": [],
   "source": [
    "from tensorflow.keras.layers import Dense, concatenate, Input, Bidirectional, LSTM\n",
    "from tensorflow.keras.models import Model\n",
    "import tensorflow as tf"
   ]
  },
  {
   "cell_type": "markdown",
   "id": "ef7a9910",
   "metadata": {},
   "source": [
    "As mentioned before, we want to use features that can also tell us something about the potential structure of the peptide. This means we need to take the sequence of the peptide into account and not just the amino acid counts. For this we will use a 'one-hot encoding', in this matrix each position in the peptide are the columns (number of columns equals the length of the peptide) and each amino acid per position has its own row (for the standard amino acids this is 20). So as a result we create a matrix that is the length of the peptide by the amount of unique amino acids in the whole data set. For each position we indicate the presence with a '1' and absence with '0'. As a result the sum of each columnn is '1' and the sum of the whole matrix equals the length of the peptide."
   ]
  },
  {
   "cell_type": "code",
   "execution_count": null,
   "id": "ca59861f",
   "metadata": {},
   "outputs": [],
   "source": [
    "def aa_seq_to_one_hot(seq,padding_length=60):\n",
    "    # Although padding is not needed for an LSTM, we might need it if we for example apply a CNN\n",
    "    # Calculate how much padding is needed\n",
    "    seq_len = len(seq)\n",
    "    if seq_len > padding_length:\n",
    "        seq = seq[0:padding_length]\n",
    "        seq_len = len(seq)\n",
    "\n",
    "    # Add padding for peptides that are too short\n",
    "    padding = \"\".join([\"X\"] * (padding_length - len(seq)))\n",
    "    seq = seq + padding\n",
    "\n",
    "    # Initialize all feature matrix\n",
    "    matrix_hc = np.zeros(\n",
    "        (len(aa_to_pos.keys()), len(seq)), dtype=np.int8)\n",
    "    \n",
    "    # Fill the one-hot matrix, when we encounter an 'X' it should be the end of the sequence\n",
    "    for idx,aa in enumerate(seq):\n",
    "        if aa == \"X\":\n",
    "            break\n",
    "        matrix_hc[aa_to_pos[aa],idx] = 1\n",
    "    \n",
    "    return matrix_hc"
   ]
  },
  {
   "cell_type": "code",
   "execution_count": null,
   "id": "6d864cd5",
   "metadata": {},
   "outputs": [],
   "source": [
    "# Calculate the one-hot matrices and stack them\n",
    "# Result is a 3D matrix where the first dimension is each peptide, and then the last two dims are the one-hot matrix\n",
    "one_hot_encoded_train = np.stack(ccs_df_train[\"sequence\"].apply(aa_seq_to_one_hot).values)\n",
    "one_hot_encoded_test = np.stack(ccs_df_test[\"sequence\"].apply(aa_seq_to_one_hot).values)"
   ]
  },
  {
   "cell_type": "code",
   "execution_count": null,
   "id": "5c9f3948",
   "metadata": {},
   "outputs": [],
   "source": [
    "if len(ccs_df.index) < 1e4:\n",
    "    epochs = 100\n",
    "    num_lstm = 12\n",
    "    batch_size = 128\n",
    "else:\n",
    "    batch_size = 1024\n",
    "    epochs = 10\n",
    "    num_lstm = 64\n",
    "\n",
    "batch_size = 128\n",
    "v_split    = 0.1\n",
    "optimizer  = \"adam\"\n",
    "loss       = \"mean_squared_error\"\n",
    "\n",
    "# The architecture chosen consists of two inputs: (1) the one-hot matrix and (2) the charge\n",
    "# The first part is a biderectional LSTM (a), in paralel we have dense layers containing the charge (b)\n",
    "# Both a and b are concatenated to go through several dense layers (c)\n",
    "input_a = Input(shape=(None, one_hot_encoded_train.shape[2]))\n",
    "a = Bidirectional(LSTM(num_lstm,return_sequences=True))(input_a)\n",
    "a = Bidirectional(LSTM(num_lstm))(a)\n",
    "a = Model(inputs=input_a, outputs=a)\n",
    "\n",
    "input_b = Input(shape=(1,))\n",
    "b = Dense(5, activation=\"relu\")(input_b)\n",
    "b = Model(inputs=input_b, outputs=b)\n",
    "\n",
    "c = concatenate([a.output, b.output],axis=-1)\n",
    "\n",
    "c = Dense(64, activation=\"relu\")(c)\n",
    "c = Dense(32, activation=\"relu\")(c)\n",
    "c = Dense(1, activation=\"relu\")(c)\n",
    "\n",
    "# Create the model with specified inputs and outputs\n",
    "model = Model(inputs=[a.input, b.input], outputs=c)\n",
    "\n",
    "model.compile(optimizer=optimizer, loss=loss)\n",
    "\n",
    "# Fit the model on the training data\n",
    "history = model.fit(\n",
    "            (one_hot_encoded_train,ccs_df_train.loc[:,\"Charge\"]),\n",
    "            ccs_df_train.loc[:,\"CCS\"],\n",
    "            epochs=epochs, \n",
    "            batch_size=batch_size,\n",
    "            validation_split=v_split\n",
    ")"
   ]
  },
  {
   "cell_type": "code",
   "execution_count": null,
   "id": "49982f89",
   "metadata": {},
   "outputs": [],
   "source": [
    "# Predict CCS values test set\n",
    "ccs_df_test[\"LSTM_predictions\"] = model.predict((one_hot_encoded_test,ccs_df_test.loc[:,\"Charge\"]))"
   ]
  },
  {
   "cell_type": "code",
   "execution_count": null,
   "id": "3747a0a1",
   "metadata": {},
   "outputs": [],
   "source": [
    "if len(ccs_df.index) < 1e4:\n",
    "    set_alpha = 0.2\n",
    "    set_size = 3\n",
    "else:\n",
    "    set_alpha = 0.05\n",
    "    set_size = 1\n",
    "\n",
    "# Scatter plot the observations on the test set against the predictions on the same set\n",
    "plt.scatter(\n",
    "    ccs_df_test.loc[ccs_df_test[\"Charge\"]==2,\"CCS\"],\n",
    "    ccs_df_test.loc[ccs_df_test[\"Charge\"]==2,\"LSTM_predictions\"],\n",
    "    alpha=set_alpha,\n",
    "    s=set_size,\n",
    "    label=\"Z=2\"\n",
    ")\n",
    "\n",
    "plt.scatter(\n",
    "    ccs_df_test.loc[ccs_df_test[\"Charge\"]==3,\"CCS\"],\n",
    "    ccs_df_test.loc[ccs_df_test[\"Charge\"]==3,\"LSTM_predictions\"],\n",
    "    alpha=set_alpha,\n",
    "    s=set_size,\n",
    "    label=\"Z=3\"\n",
    ")\n",
    "\n",
    "plt.scatter(\n",
    "    ccs_df_test.loc[ccs_df_test[\"Charge\"]==4,\"CCS\"],\n",
    "    ccs_df_test.loc[ccs_df_test[\"Charge\"]==4,\"LSTM_predictions\"],\n",
    "    alpha=set_alpha,\n",
    "    s=set_size,\n",
    "    label=\"Z=4\"\n",
    ")\n",
    "\n",
    "# Plot a diagonal the points should be one\n",
    "plt.plot([300,1100],[300,1100],c=\"grey\")\n",
    "\n",
    "legend = plt.legend()\n",
    "\n",
    "for lh in legend.legendHandles:\n",
    "    lh.set_sizes([25])\n",
    "    lh.set_alpha(1)\n",
    "\n",
    "# Get the predictions and calculate performance metrics\n",
    "predictions = ccs_df_test[\"LSTM_predictions\"]\n",
    "mare = round(sum((abs(predictions-ccs_df_test.loc[:,\"CCS\"])/ccs_df_test.loc[:,\"CCS\"])*100)/len(predictions),3)\n",
    "pcc = round(pearsonr(predictions,ccs_df_test.loc[:,\"CCS\"])[0],3)\n",
    "perc_95 = round(np.percentile((abs(predictions-ccs_df_test.loc[:,\"CCS\"])/ccs_df_test.loc[:,\"CCS\"])*100,95)*2,2)\n",
    "\n",
    "plt.title(f\"LSTM - PCC: {pcc} - MARE: {mare}% - 95th percentile: {perc_95}%\")\n",
    "\n",
    "ax = plt.gca()\n",
    "ax.set_aspect('equal')\n",
    "\n",
    "plt.xlabel(\"Observed CCS (^2)\")\n",
    "plt.ylabel(\"Predicted CCS (^2)\")\n",
    "\n",
    "plt.show()"
   ]
  },
  {
   "cell_type": "markdown",
   "id": "226ba2b1",
   "metadata": {},
   "source": [
    "It is clear that the performance of this model is much better. But... Performance can be improved a lot more by for example tuning hyperparameters like the network architecture or number of epochs."
   ]
  },
  {
   "cell_type": "markdown",
   "id": "44a4ea9e",
   "metadata": {},
   "source": [
    "Hope you enjoyed this tutorial! Feel free to edit it and make a pull request!"
   ]
  }
 ],
 "metadata": {
  "kernelspec": {
   "display_name": "Python 3.9.7 ('base')",
   "language": "python",
   "name": "python3"
  },
  "language_info": {
   "codemirror_mode": {
    "name": "ipython",
    "version": 3
   },
   "file_extension": ".py",
   "mimetype": "text/x-python",
   "name": "python",
   "nbconvert_exporter": "python",
   "pygments_lexer": "ipython3",
   "version": "3.9.7"
  },
  "vscode": {
   "interpreter": {
    "hash": "0c339fba8800f289223ed8cfd6e3b81401a206d437a496d69810d81cfdc690c7"
   }
  }
 },
 "nbformat": 4,
 "nbformat_minor": 5
}
