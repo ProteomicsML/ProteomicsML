{
 "cells": [
  {
   "cell_type": "markdown",
   "id": "59703bbe",
   "metadata": {
    "collapsed": false,
    "pycharm": {
     "name": "#%% md\n"
    }
   },
   "source": [
    "---\n",
    "title: \"Modelling protein detectability with an MLP\"\n",
    "\n",
    "date: last-modified\n",
    "\n",
    "author:\n",
    "\n",
    "- name: Eric Deutsch\n",
    "\n",
    "  orcid: 0000-0001-8732-0928\n",
    "\n",
    "  affiliations:\n",
    "    - Institute for Systems Biology, Seattle WA, USA\n",
    "\n",
    "---\n",
    "\n",
    "[![Open In Colab](https://colab.research.google.com/assets/colab-badge.svg)](https://colab.research.google.com/github/ProteomicsML/ProteomicsML/blob/main/tutorials/detectability/_modeling-protein-detectability.ipynb)\n"
   ]
  },
  {
   "cell_type": "markdown",
   "id": "8d965c6f",
   "metadata": {
    "pycharm": {
     "name": "#%% md\n"
    }
   },
   "source": [
    "# Introduction\n",
    "\n",
    "When subjecting whole cell lysates to mass spectrometry-based proteomics analysis, some proteins are easily detected while others are not seen. The proteins that are never detected are often colloquially called the dark proteome. There are many reasons for not detecting proteins. Some proteins may only be found in certain cell types or in certain developmental stages. Comprehensive accumulation of datasets from different cell types and developmental stages can overcome this limitation. Other reasons such as the physicochemical properties of the proteins may hinder detection. Here we explore the \"light and dark proteome\" based on proteins that are observed and not observed in the Arabidopsis PeptideAtlas, which has been assembled by search over 200 million MS/MS spectra from 100 different datasets. "
   ]
  },
  {
   "cell_type": "markdown",
   "id": "a3abe284",
   "metadata": {
    "pycharm": {
     "name": "#%% md\n"
    }
   },
   "source": [
    "First we import some needed libraries"
   ]
  },
  {
   "cell_type": "code",
   "execution_count": null,
   "id": "5292041a",
   "metadata": {
    "pycharm": {
     "name": "#%%\n"
    }
   },
   "outputs": [],
   "source": [
    "!pip install numpy, pandas, matplotlib, sklearn"
   ]
  },
  {
   "cell_type": "code",
   "execution_count": null,
   "id": "7e1b470d",
   "metadata": {
    "pycharm": {
     "name": "#%%\n"
    }
   },
   "outputs": [],
   "source": [
    "import numpy as np\n",
    "import pandas as pd\n",
    "import matplotlib.pyplot as plt\n",
    "from sklearn.neural_network import MLPClassifier\n",
    "from sklearn.model_selection import train_test_split\n",
    "from sklearn.metrics import roc_curve, auc"
   ]
  },
  {
   "cell_type": "markdown",
   "id": "a52e0f74",
   "metadata": {
    "pycharm": {
     "name": "#%% md\n"
    }
   },
   "source": [
    "Read input data and extract the columns to train on. We will attempt to train on the protein molecular weight, protein physicochemical properties gravy score (a measure of hydrophobicity), isoelectric point (pI), and then two metrics from RNA-seq analysis: the percentage of RNA-seq experiments that detect a transcript for the given protein, and the highest TPM (transcripts per million, i.e. abundance) in any one dataset."
   ]
  },
  {
   "cell_type": "code",
   "execution_count": null,
   "id": "0e1cc88b",
   "metadata": {
    "pycharm": {
     "name": "#%%\n"
    }
   },
   "outputs": [],
   "source": [
    "proteins = pd.read_csv('http://www.peptideatlas.org/builds/arabidopsis/light_and_dark_protein_list.tsv', sep=\"\\t\")\n",
    "learning_values = proteins[ ['molecular_weight', 'gravy', 'pI', 'rna_detected_percent', 'highest_tpm' ] ].copy()"
   ]
  },
  {
   "cell_type": "markdown",
   "id": "623b7f6c",
   "metadata": {
    "pycharm": {
     "name": "#%% md\n"
    }
   },
   "source": [
    "Normalize the data to have ranges like 0 to 1"
   ]
  },
  {
   "cell_type": "code",
   "execution_count": null,
   "id": "e965af24",
   "metadata": {
    "pycharm": {
     "name": "#%%\n"
    }
   },
   "outputs": [],
   "source": [
    "learning_values.loc[ :, 'molecular_weight'] = learning_values['molecular_weight'] / 100\n",
    "learning_values.loc[ learning_values[ 'molecular_weight'] > 1, 'molecular_weight'] = 1.0\n",
    "learning_values.loc[ :, 'gravy'] = ( learning_values['gravy'] + 2 ) / 4\n",
    "learning_values.loc[ :, 'pI'] = ( learning_values['pI'] - 4 ) / 8\n",
    "\n",
    "learning_values.loc[ :, 'rna_detected_percent'] = learning_values['rna_detected_percent'] / 100\n",
    "learning_values.loc[ :, 'highest_tpm'] = learning_values['highest_tpm'] / 300\n",
    "learning_values.loc[ learning_values[ 'highest_tpm'] > 1, 'highest_tpm'] = 1.0"
   ]
  },
  {
   "cell_type": "markdown",
   "id": "1ddfdf84",
   "metadata": {
    "pycharm": {
     "name": "#%% md\n"
    }
   },
   "source": [
    "Set the classifications to 0 and 1"
   ]
  },
  {
   "cell_type": "code",
   "execution_count": null,
   "id": "65cfc95f",
   "metadata": {
    "pycharm": {
     "name": "#%%\n"
    }
   },
   "outputs": [],
   "source": [
    "classes = proteins['status'].copy()\n",
    "classes[ classes == 'canonical' ] = 1\n",
    "classes[ classes == 'not observed' ] = 0"
   ]
  },
  {
   "cell_type": "markdown",
   "id": "8098b44f",
   "metadata": {
    "pycharm": {
     "name": "#%% md\n"
    }
   },
   "source": [
    "Split into 75% train and 25% test"
   ]
  },
  {
   "cell_type": "code",
   "execution_count": null,
   "id": "5285fd43",
   "metadata": {
    "pycharm": {
     "name": "#%%\n"
    }
   },
   "outputs": [],
   "source": [
    "X_train, X_test, y_train, y_test = train_test_split(learning_values, classes, test_size=0.25)"
   ]
  },
  {
   "cell_type": "markdown",
   "id": "1f0057ae",
   "metadata": {
    "pycharm": {
     "name": "#%% md\n"
    }
   },
   "source": [
    "Train the classifier on the training set"
   ]
  },
  {
   "cell_type": "code",
   "execution_count": null,
   "id": "4acfe790",
   "metadata": {
    "pycharm": {
     "name": "#%%\n"
    }
   },
   "outputs": [],
   "source": [
    "clf = MLPClassifier(solver='lbfgs', max_iter=1000, hidden_layer_sizes=(100,), alpha=1e-4, random_state=1)\n",
    "clf.fit(X_train, list(y_train))"
   ]
  },
  {
   "cell_type": "markdown",
   "id": "cd787b16",
   "metadata": {
    "pycharm": {
     "name": "#%% md\n"
    }
   },
   "source": [
    "Predict for all the test set"
   ]
  },
  {
   "cell_type": "code",
   "execution_count": null,
   "id": "05d92775",
   "metadata": {
    "pycharm": {
     "name": "#%%\n"
    }
   },
   "outputs": [],
   "source": [
    "predictions = clf.predict(X_test)\n",
    "probabilities = clf.predict_proba(X_test)"
   ]
  },
  {
   "cell_type": "markdown",
   "id": "c7f7d701",
   "metadata": {
    "pycharm": {
     "name": "#%% md\n"
    }
   },
   "source": [
    "Make a ROC curve"
   ]
  },
  {
   "cell_type": "code",
   "execution_count": null,
   "id": "586cebe4",
   "metadata": {
    "pycharm": {
     "name": "#%%\n"
    }
   },
   "outputs": [],
   "source": [
    "probabilities_list = list(probabilities[ :, 1])\n",
    "fpr, tpr, thresholds = roc_curve(np.ravel(list(y_test)), np.ravel(probabilities_list))\n",
    "roc_auc = auc(fpr, tpr)\n",
    "plt.figure()\n",
    "plt.plot(fpr,tpr,color=\"darkorange\",lw=2,label=\"ROC curve (area = %0.2f)\" % roc_auc)\n",
    "plt.plot([0, 1], [0, 1], color=\"navy\", lw=2, linestyle=\"--\")\n",
    "plt.xlim([0.0, 1.0])\n",
    "plt.ylim([0.0, 1.05])\n",
    "plt.xlabel(\"False positive rate\")\n",
    "plt.ylabel(\"True positive rate\")\n",
    "plt.title(\"ROC plot for canonical predictions\")\n",
    "plt.legend(loc=\"lower right\")\n",
    "plt.grid(True)\n",
    "plt.show()"
   ]
  },
  {
   "cell_type": "markdown",
   "id": "73dcb87e",
   "metadata": {
    "pycharm": {
     "name": "#%% md\n"
    }
   },
   "source": [
    "Predict for all protein and write out the table with learned results"
   ]
  },
  {
   "cell_type": "code",
   "execution_count": null,
   "id": "7fdcead5",
   "metadata": {
    "pycharm": {
     "name": "#%%\n"
    }
   },
   "outputs": [],
   "source": [
    "probabilities = clf.predict_proba(learning_values)\n",
    "proteins['learned_canonical_prob'] = probabilities[ :, 1]\n",
    "proteins.to_csv('light_and_dark_protein_list_trained.tsv', sep=\"\\t\", index=False)"
   ]
  },
  {
   "cell_type": "code",
   "execution_count": null,
   "id": "91cbc313",
   "metadata": {
    "pycharm": {
     "name": "#%%\n"
    }
   },
   "outputs": [],
   "source": []
  }
 ],
 "metadata": {
  "kernelspec": {
   "display_name": "Python 3 (ipykernel)",
   "language": "python",
   "name": "python3"
  },
  "language_info": {
   "codemirror_mode": {
    "name": "ipython",
    "version": 3
   },
   "file_extension": ".py",
   "mimetype": "text/x-python",
   "name": "python",
   "nbconvert_exporter": "python",
   "pygments_lexer": "ipython3",
   "version": "3.10.4"
  }
 },
 "nbformat": 4,
 "nbformat_minor": 5
}
