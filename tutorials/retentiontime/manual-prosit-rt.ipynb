{
 "cells": [
  {
   "cell_type": "markdown",
   "source": [
    "---\n",
    "title: \"Manual embedding of Bi-LSTM model on ProteomeTools data\"\n",
    "\n",
    "date: last-modified\n",
    "\n",
    "author:\n",
    "\n",
    "- name: Tobias Greisager Rehfeldt\n",
    "\n",
    "  orcid: 0000-0002-1190-9485\n",
    "\n",
    "  affiliations:\n",
    "    - University of Southern Denmark, Odense\n",
    "    - Department of Natural Science, Institute for Mathematics and Computer Science\n",
    "\n",
    "---\n",
    "\n",
    "[![Open In Colab](https://colab.research.google.com/assets/colab-badge.svg)](https://colab.research.google.com/github/ProteomicsML/ProteomicsML/blob/main/tutorials/retentiontime/_dlomix_prosit.ipynb)"
   ],
   "metadata": {
    "id": "dRhbCG8d9wJl",
    "pycharm": {
     "name": "#%% md\n"
    }
   }
  },
  {
   "cell_type": "code",
   "execution_count": null,
   "metadata": {
    "id": "9BbgWdMAQ7v-",
    "pycharm": {
     "name": "#%%\n"
    }
   },
   "outputs": [],
   "source": [
    "!pip install pandas sklearn tensorflow dlomix numpy matplotlib requests"
   ]
  },
  {
   "cell_type": "code",
   "execution_count": null,
   "metadata": {
    "id": "7BEOR5ydRMmu",
    "pycharm": {
     "name": "#%%\n"
    }
   },
   "outputs": [],
   "source": [
    "# Import and normalize/standarize data\n",
    "import pandas as pd\n",
    "import numpy as np\n",
    "# Import and normalize the data\n",
    "data = pd.read_csv('https://github.com/ProteomicsML/ProteomicsML/blob/main/datasets/retentiontime/ProteomeTools/Small.csv.gz?raw=true', compression='gzip')\n",
    "\n",
    "# shuffle and split dataset into internal (80%) and external (20%) datasets\n",
    "data = data.sample(frac=1)\n",
    "test_data = data[int(len(data)*0.8):]\n",
    "data = data[:int(len(data)*0.8)]"
   ]
  },
  {
   "cell_type": "code",
   "source": [
    "# Split the internal dataset into training and validation\n",
    "# We have to split the data based on Sequences, to make sure we dont have cross-over sequences in the training and validation splits.\n",
    "unique_sequences = list(set(data['Sequence']))\n",
    "# Shuffle the data to ensure unbiased data splitting\n",
    "from random import shuffle\n",
    "shuffle(unique_sequences)\n",
    "# Split sequence 80-10-10 training, validation and testing split\n",
    "train = unique_sequences[0:int(len(unique_sequences) * 0.8)]\n",
    "validation = unique_sequences[int(len(unique_sequences) * 0.8):]\n",
    "# Transfer the sequence split into data split\n",
    "train = data[data['Sequence'].isin(train)]\n",
    "validation = data[data['Sequence'].isin(validation)]\n",
    "print('Training data points:', len(train),'  Validation data points:',  len(validation),'  Testing data points:',  len(test_data))\n",
    "# Here we use test as an external dataset unlike the one used for training."
   ],
   "metadata": {
    "colab": {
     "base_uri": "https://localhost:8080/"
    },
    "id": "NW-UV51jU9on",
    "outputId": "389981c7-7794-4807-c07e-b0c92e8befdc",
    "pycharm": {
     "name": "#%%\n"
    }
   },
   "execution_count": null,
   "outputs": [
    {
     "output_type": "stream",
     "name": "stdout",
     "text": [
      "Training data points: 64613   Validation data points: 15387   Testing data points: 20000\n"
     ]
    }
   ]
  },
  {
   "cell_type": "code",
   "source": [
    "normalize = True\n",
    "if normalize:\n",
    "  # Normalize\n",
    "  train_val_min, train_val_max = min(train['Retention time'].min(), validation['Retention time'].min()), max(train['Retention time'].max(), validation['Retention time'].max())\n",
    "  train['Retention time'] = list((train['Retention time'] - train_val_min) / (train_val_max - train_val_min))\n",
    "  validation['Retention time'] = list((validation['Retention time'] - train_val_min) / (train_val_max - train_val_min))\n",
    "  test_data['Retention time'] = list((test_data['Retention time'] - test_data['Retention time'].min()) / (test_data['Retention time'].max() - test_data['Retention time'].min()))\n",
    "else:\n",
    "  # Standardize\n",
    "  train_val_mean, train_val_std = np.mean(list(train['Retention time']) + list(validation['Retention time'])), np.std(list(train['Retention time']) + list(validation['Retention time']))\n",
    "  train['Retention time'] = (train['Retention time'] - train_val_mean) / train_val_std\n",
    "  validation['Retention time'] = (validation['Retention time'] - train_val_mean) / train_val_std\n",
    "  test_data['Retention time'] = (test_data['Retention time'] - np.mean(test_data['Retention time'])) / np.std(test_data['Retention time'])"
   ],
   "metadata": {
    "id": "OUeOChM2jHwF",
    "pycharm": {
     "name": "#%%\n"
    }
   },
   "execution_count": null,
   "outputs": []
  },
  {
   "cell_type": "code",
   "source": [
    "# Setup parameters\n",
    "sequence_length = 30\n",
    "batch_size = 64\n",
    "epochs=10"
   ],
   "metadata": {
    "id": "jDPvGCs8aHBs",
    "pycharm": {
     "name": "#%%\n"
    }
   },
   "execution_count": null,
   "outputs": []
  },
  {
   "cell_type": "code",
   "execution_count": null,
   "metadata": {
    "id": "Z9Oe_wQLTnXc",
    "pycharm": {
     "name": "#%%\n"
    }
   },
   "outputs": [],
   "source": [
    "# Manual sequence embedding\n",
    "# Remove sequences longer than our maximum sequence length\n",
    "train = train[train['Sequence'].str.len()<=sequence_length]\n",
    "validation = validation[validation['Sequence'].str.len()<=sequence_length]\n",
    "test_data = test_data[test_data['Sequence'].str.len()<=sequence_length]\n",
    "\n",
    "# Create an alphabet to convert from string to numeric\n",
    "AA_alphabet = {\"A\": 1, \"C\": 2, \"D\": 3, \"E\": 4, \"F\": 5, \"G\": 6, \"H\": 7, \"I\": 8, \"K\": 9, \"L\": 10, \"M\": 11, \"N\": 12, \"P\": 13, \"Q\": 14, \"R\": 15, \"S\": 16, \"T\": 17, \"V\": 18, \"W\": 19, \"Y\": 20}\n",
    "# Convert sequences from string to numberic\n",
    "embedded_sequences_train = [[AA_alphabet[g] for g in f] for f in train['Sequence']]\n",
    "embedded_sequences_validation = [[AA_alphabet[g] for g in f] for f in validation['Sequence']]\n",
    "embedded_sequences_test = [[AA_alphabet[g] for g in f] for f in test_data['Sequence']]\n",
    "\n",
    "# Make sure every sequence is the same length\n",
    "from tensorflow.keras.preprocessing.sequence import pad_sequences\n",
    "embedded_sequences_train = pad_sequences(sequences=embedded_sequences_train, maxlen=sequence_length)\n",
    "embedded_sequences_validation = pad_sequences(sequences=embedded_sequences_validation, maxlen=sequence_length)\n",
    "embedded_sequences_test = pad_sequences(sequences=embedded_sequences_test, maxlen=sequence_length)"
   ]
  },
  {
   "cell_type": "code",
   "execution_count": null,
   "metadata": {
    "id": "QCNiQ5oNUQuQ",
    "colab": {
     "base_uri": "https://localhost:8080/"
    },
    "outputId": "05d93c24-1e0c-4140-9125-e7923f869340",
    "pycharm": {
     "name": "#%%\n"
    }
   },
   "outputs": [
    {
     "output_type": "stream",
     "name": "stdout",
     "text": [
      "Model: \"model_1\"\n",
      "_________________________________________________________________\n",
      " Layer (type)                Output Shape              Param #   \n",
      "=================================================================\n",
      " Input (InputLayer)          [(None, 30)]              0         \n",
      "                                                                 \n",
      " Sequence_Embedding (Embeddi  (None, 30, 8)            176       \n",
      " ng)                                                             \n",
      "                                                                 \n",
      " Bi_LSTM_1 (Bidirectional)   (None, 30, 64)            10496     \n",
      "                                                                 \n",
      " LSTM_Dropout (Dropout)      (None, 30, 64)            0         \n",
      "                                                                 \n",
      " Bi_LSTM_2 (Bidirectional)   (None, 64)                24832     \n",
      "                                                                 \n",
      " Output (Dense)              (None, 1)                 65        \n",
      "                                                                 \n",
      "=================================================================\n",
      "Total params: 35,569\n",
      "Trainable params: 35,569\n",
      "Non-trainable params: 0\n",
      "_________________________________________________________________\n"
     ]
    }
   ],
   "source": [
    "# Import the needed layers and tensorflow model requirements\n",
    "from tensorflow.keras.layers import Dense, Embedding, LSTM, Input, Concatenate, Bidirectional, Dropout\n",
    "from tensorflow.keras.models import Model\n",
    "\n",
    "inputs = Input(shape=(sequence_length,), name='Input')\n",
    "# Embed the sequnces in a 20 x 8 matrix\n",
    "input_embedding = Embedding(input_dim=len(AA_alphabet)+2, output_dim=8, name='Sequence_Embedding')(inputs)\n",
    "x = Bidirectional(LSTM(32, return_sequences=True), name='Bi_LSTM_1')(input_embedding)\n",
    "x = Dropout(0.25, name='LSTM_Dropout')(x)\n",
    "x = Bidirectional(LSTM(32), name='Bi_LSTM_2')(x)\n",
    "output = Dense(1, activation=\"linear\", name='Output')(x)\n",
    "model = Model(inputs, output)\n",
    "model.summary()"
   ]
  },
  {
   "cell_type": "code",
   "execution_count": null,
   "metadata": {
    "id": "8nHIFG_XXRp4",
    "colab": {
     "base_uri": "https://localhost:8080/"
    },
    "outputId": "7d2874e7-4342-4c41-e9fd-725f359eaf05",
    "pycharm": {
     "name": "#%%\n"
    }
   },
   "outputs": [
    {
     "output_type": "stream",
     "name": "stdout",
     "text": [
      "Epoch 1/10\n",
      "983/983 [==============================] - 26s 19ms/step - loss: 0.0073 - mae: 0.0556 - val_loss: 0.0036 - val_mae: 0.0406\n",
      "Epoch 2/10\n",
      "983/983 [==============================] - 13s 13ms/step - loss: 0.0035 - mae: 0.0395 - val_loss: 0.0028 - val_mae: 0.0340\n",
      "Epoch 3/10\n",
      "983/983 [==============================] - 13s 13ms/step - loss: 0.0029 - mae: 0.0355 - val_loss: 0.0034 - val_mae: 0.0361\n",
      "Epoch 4/10\n",
      "983/983 [==============================] - 13s 13ms/step - loss: 0.0026 - mae: 0.0322 - val_loss: 0.0026 - val_mae: 0.0317\n",
      "Epoch 5/10\n",
      "983/983 [==============================] - 13s 13ms/step - loss: 0.0025 - mae: 0.0313 - val_loss: 0.0024 - val_mae: 0.0280\n",
      "Epoch 6/10\n",
      "983/983 [==============================] - 13s 13ms/step - loss: 0.0023 - mae: 0.0297 - val_loss: 0.0025 - val_mae: 0.0313\n",
      "Epoch 7/10\n",
      "983/983 [==============================] - 14s 14ms/step - loss: 0.0023 - mae: 0.0292 - val_loss: 0.0024 - val_mae: 0.0277\n",
      "Epoch 8/10\n",
      "983/983 [==============================] - 13s 13ms/step - loss: 0.0022 - mae: 0.0288 - val_loss: 0.0023 - val_mae: 0.0296\n",
      "Epoch 9/10\n",
      "983/983 [==============================] - 13s 13ms/step - loss: 0.0021 - mae: 0.0281 - val_loss: 0.0021 - val_mae: 0.0271\n",
      "Epoch 10/10\n",
      "983/983 [==============================] - 13s 13ms/step - loss: 0.0021 - mae: 0.0276 - val_loss: 0.0025 - val_mae: 0.0347\n"
     ]
    }
   ],
   "source": [
    "import tensorflow as tf\n",
    "# Compiling the keras model with loss function, metrics and optimizer\n",
    "model.compile(loss='mse', metrics=['mae'], optimizer=tf.keras.optimizers.Adam(learning_rate=0.005))\n",
    "# Train the model\n",
    "history = model.fit(x=embedded_sequences_train, y=train['Retention time'], epochs=epochs, \n",
    "                    batch_size=batch_size, validation_data=(embedded_sequences_validation, validation['Retention time']))"
   ]
  },
  {
   "cell_type": "code",
   "execution_count": null,
   "metadata": {
    "id": "WMrpEWrqYPrm",
    "colab": {
     "base_uri": "https://localhost:8080/",
     "height": 295
    },
    "outputId": "dde65102-061f-408c-f2ab-37cb7e183649",
    "pycharm": {
     "name": "#%%\n"
    }
   },
   "outputs": [
    {
     "output_type": "display_data",
     "data": {
      "text/plain": [
       "<Figure size 432x288 with 1 Axes>"
      ],
      "image/png": "[encoded data removed]"
     },
     "metadata": {
      "needs_background": "light"
     }
    }
   ],
   "source": [
    "import matplotlib.pyplot as plt\n",
    "# Plotting the training history \n",
    "plt.plot(range(epochs), history.history['loss'], '-', color='r', label='Training loss')\n",
    "plt.plot(range(epochs), history.history['val_loss'], '--', color='r', label='Validation loss')\n",
    "plt.title(f'Training and validation loss across epochs')\n",
    "plt.xlabel('Epochs')\n",
    "plt.ylabel('Loss')\n",
    "plt.legend()\n",
    "plt.show()"
   ]
  },
  {
   "cell_type": "code",
   "source": [
    "# Initially we trained on just one gradient, to transfer this model to external datasets, \n",
    "# we refine the model by using the model we just trained as a pre-trained model, and then further train it with the test/external dataset\n",
    "history = model.fit(x=embedded_sequences_test, y=test_data['Retention time'], epochs=epochs, batch_size=batch_size)\n",
    "# The model can now be used for other datasets with the same gradient set-up\n",
    "# We then plot the history of this model, and see the initial performance is much better, \n",
    "# as the model already has some gradient agnostic knowledge, and it simply has to learn the new gradients\n",
    "plt.plot(range(epochs), history.history['loss'], '-', color='r', label='Training loss')\n",
    "plt.title(f'Training and validation loss of the refined model')\n",
    "plt.xlabel('Epochs')\n",
    "plt.ylabel('Loss')\n",
    "plt.legend()\n",
    "plt.show()"
   ],
   "metadata": {
    "colab": {
     "base_uri": "https://localhost:8080/",
     "height": 642
    },
    "id": "GwOJulHITRro",
    "outputId": "5051f092-57d8-4086-83d8-a37f7fd8da3d",
    "pycharm": {
     "name": "#%%\n"
    }
   },
   "execution_count": null,
   "outputs": [
    {
     "output_type": "stream",
     "name": "stdout",
     "text": [
      "Epoch 1/10\n",
      "306/306 [==============================] - 4s 12ms/step - loss: 0.0021 - mae: 0.0285\n",
      "Epoch 2/10\n",
      "306/306 [==============================] - 4s 12ms/step - loss: 0.0020 - mae: 0.0278\n",
      "Epoch 3/10\n",
      "306/306 [==============================] - 4s 12ms/step - loss: 0.0019 - mae: 0.0270\n",
      "Epoch 4/10\n",
      "306/306 [==============================] - 4s 12ms/step - loss: 0.0018 - mae: 0.0267\n",
      "Epoch 5/10\n",
      "306/306 [==============================] - 4s 12ms/step - loss: 0.0018 - mae: 0.0267\n",
      "Epoch 6/10\n",
      "306/306 [==============================] - 4s 12ms/step - loss: 0.0018 - mae: 0.0264\n",
      "Epoch 7/10\n",
      "306/306 [==============================] - 4s 12ms/step - loss: 0.0017 - mae: 0.0261\n",
      "Epoch 8/10\n",
      "306/306 [==============================] - 4s 12ms/step - loss: 0.0018 - mae: 0.0267\n",
      "Epoch 9/10\n",
      "306/306 [==============================] - 4s 12ms/step - loss: 0.0017 - mae: 0.0253\n",
      "Epoch 10/10\n",
      "306/306 [==============================] - 4s 12ms/step - loss: 0.0017 - mae: 0.0262\n"
     ]
    },
    {
     "output_type": "display_data",
     "data": {
      "text/plain": [
       "<Figure size 432x288 with 1 Axes>"
      ],
      "image/png": "[encoded data removed]"
     },
     "metadata": {
      "needs_background": "light"
     }
    }
   ]
  }
 ],
 "metadata": {
  "colab": {
   "collapsed_sections": [],
   "provenance": []
  },
  "kernelspec": {
   "display_name": "Python 3",
   "name": "python3"
  },
  "language_info": {
   "name": "python"
  },
  "gpuClass": "standard",
  "accelerator": "GPU"
 },
 "nbformat": 4,
 "nbformat_minor": 0
}