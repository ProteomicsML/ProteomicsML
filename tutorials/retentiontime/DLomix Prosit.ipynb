{
  "nbformat": 4,
  "nbformat_minor": 0,
  "metadata": {
    "colab": {
      "provenance": [],
      "collapsed_sections": []
    },
    "kernelspec": {
      "name": "python3",
      "display_name": "Python 3"
    },
    "language_info": {
      "name": "python"
    },
    "accelerator": "GPU",
    "gpuClass": "standard"
  },
  "cells": [
    {
      "cell_type": "code",
      "execution_count": null,
      "metadata": {
        "id": "9BbgWdMAQ7v-"
      },
      "outputs": [],
      "source": [
        " %%capture\n",
        "!pip install pandas\n",
        "!pip install sklearn\n",
        "!pip install tensorflow\n",
        "!pip install dlomix\n",
        "!pip install numpy\n",
        "!pip install matplotlib\n",
        "!pip install dlomix\n",
        "!pip install requests"
      ]
    },
    {
      "cell_type": "code",
      "execution_count": null,
      "metadata": {
        "id": "7BEOR5ydRMmu"
      },
      "outputs": [],
      "source": [
        "# Import and normalize/standarize data\n",
        "import pandas as pd\n",
        "import numpy as np\n",
        "# Import and normalize the data\n",
        "data = pd.read_csv('https://raw.githubusercontent.com/ProteomicsML/RetentionTime/main/datasets/ProteomeTools/Small.csv')\n",
        "\n",
        "# shuffle and split dataset into internal (80%) and external (20%) datasets\n",
        "data = data.sample(frac=1)\n",
        "test_data = data[int(len(data)*0.8):]\n",
        "data = data[:int(len(data)*0.8)]"
      ]
    },
    {
      "cell_type": "code",
      "source": [
        "# Split the internal dataset into training and validation\n",
        "# We have to split the data based on Sequences, to make sure we dont have cross-over sequences in the training and validation splits.\n",
        "unique_sequences = list(set(data['Sequence']))\n",
        "# Shuffle the data to ensure unbiased data splitting\n",
        "from random import shuffle\n",
        "shuffle(unique_sequences)\n",
        "# Split sequence 80-10-10 training, validation and testing split\n",
        "train = unique_sequences[0:int(len(unique_sequences) * 0.8)]\n",
        "validation = unique_sequences[int(len(unique_sequences) * 0.8):]\n",
        "# Transfer the sequence split into data split\n",
        "train = data[data['Sequence'].isin(train)]\n",
        "validation = data[data['Sequence'].isin(validation)]\n",
        "print('Training data points:', len(train),'  Validation data points:',  len(validation),'  Testing data points:',  len(test_data))\n",
        "# Here we use test as an external dataset unlike the one used for training."
      ],
      "metadata": {
        "colab": {
          "base_uri": "https://localhost:8080/"
        },
        "id": "ny5f5e2TZWdd",
        "outputId": "74672c0f-36b6-4f32-d151-39be4c904a28"
      },
      "execution_count": null,
      "outputs": [
        {
          "output_type": "stream",
          "name": "stdout",
          "text": [
            "Training data points: 63819   Validation data points: 16181   Testing data points: 20000\n"
          ]
        }
      ]
    },
    {
      "cell_type": "code",
      "source": [
        "normalize = True\n",
        "if normalize:\n",
        "  # Normalize\n",
        "  train_val_min, train_val_max = min(train['Retention time'].min(), validation['Retention time'].min()), max(train['Retention time'].max(), validation['Retention time'].max())\n",
        "  train['Retention time'] = list((train['Retention time'] - train_val_min) / (train_val_max - train_val_min))\n",
        "  validation['Retention time'] = list((validation['Retention time'] - train_val_min) / (train_val_max - train_val_min))\n",
        "  test_data['Retention time'] = list((test_data['Retention time'] - test_data['Retention time'].min()) / (test_data['Retention time'].max() - test_data['Retention time'].min()))\n",
        "else:\n",
        "  # Standardize\n",
        "  train_val_mean, train_val_std = np.mean(list(train['Retention time']) + list(validation['Retention time'])), np.std(list(train['Retention time']) + list(validation['Retention time']))\n",
        "  train['Retention time'] = (train['Retention time'] - train_val_mean) / train_val_std\n",
        "  validation['Retention time'] = (validation['Retention time'] - train_val_mean) / train_val_std\n",
        "  test_data['Retention time'] = (test_data['Retention time'] - np.mean(test_data['Retention time'])) / np.std(test_data['Retention time'])"
      ],
      "metadata": {
        "colab": {
          "base_uri": "https://localhost:8080/"
        },
        "id": "XzNHLohpZX1W",
        "outputId": "14a7f118-fe96-466a-b462-a9df40e4c793"
      },
      "execution_count": null,
      "outputs": [
        {
          "output_type": "stream",
          "name": "stderr",
          "text": [
            "/usr/local/lib/python3.7/dist-packages/ipykernel_launcher.py:5: SettingWithCopyWarning: \n",
            "A value is trying to be set on a copy of a slice from a DataFrame.\n",
            "Try using .loc[row_indexer,col_indexer] = value instead\n",
            "\n",
            "See the caveats in the documentation: https://pandas.pydata.org/pandas-docs/stable/user_guide/indexing.html#returning-a-view-versus-a-copy\n",
            "  \"\"\"\n",
            "/usr/local/lib/python3.7/dist-packages/ipykernel_launcher.py:6: SettingWithCopyWarning: \n",
            "A value is trying to be set on a copy of a slice from a DataFrame.\n",
            "Try using .loc[row_indexer,col_indexer] = value instead\n",
            "\n",
            "See the caveats in the documentation: https://pandas.pydata.org/pandas-docs/stable/user_guide/indexing.html#returning-a-view-versus-a-copy\n",
            "  \n"
          ]
        }
      ]
    },
    {
      "cell_type": "code",
      "source": [
        "# Setup parameters\n",
        "sequence_length = 30\n",
        "batch_size = 64\n",
        "epochs=10"
      ],
      "metadata": {
        "id": "jDPvGCs8aHBs"
      },
      "execution_count": null,
      "outputs": []
    },
    {
      "cell_type": "code",
      "source": [
        "# Setup data \n",
        "from dlomix.data import RetentionTimeDataset\n",
        "train_input = RetentionTimeDataset(data_source=tuple([np.array(train['Sequence']), np.array(train['Retention time'])]), \n",
        "                                        seq_length=sequence_length, batch_size=batch_size, test=False).train_data\n",
        "\n",
        "val_input = RetentionTimeDataset(data_source=tuple([np.array(validation['Sequence']), np.array(validation['Retention time'])]), \n",
        "                                        seq_length=sequence_length, batch_size=batch_size, test=False).train_data\n",
        "\n",
        "test_input = RetentionTimeDataset(data_source=tuple([np.array(test_data['Sequence']), np.array(test_data['Retention time'])]), \n",
        "                                        seq_length=sequence_length, batch_size=batch_size, test=False).train_data\n",
        "\n",
        "# Setup PROSIT model from DLOmix\n",
        "from dlomix.models.prosit import PrositRetentionTimePredictor\n",
        "model = PrositRetentionTimePredictor(seq_length=sequence_length)\n",
        "model.build((None, sequence_length))\n",
        "model.summary()"
      ],
      "metadata": {
        "id": "FuC056d-fkPi",
        "colab": {
          "base_uri": "https://localhost:8080/"
        },
        "outputId": "f5c07dca-3d73-48a1-9927-214d7fadf245"
      },
      "execution_count": null,
      "outputs": [
        {
          "output_type": "stream",
          "name": "stdout",
          "text": [
            "Model: \"prosit_retention_time_predictor\"\n",
            "_________________________________________________________________\n",
            " Layer (type)                Output Shape              Param #   \n",
            "=================================================================\n",
            " string_lookup (StringLookup  multiple                 0         \n",
            " )                                                               \n",
            "                                                                 \n",
            " embedding (Embedding)       multiple                  352       \n",
            "                                                                 \n",
            " sequential (Sequential)     (None, 30, 512)           1996800   \n",
            "                                                                 \n",
            " attention_layer (AttentionL  multiple                 542       \n",
            " ayer)                                                           \n",
            "                                                                 \n",
            " sequential_1 (Sequential)   (None, 512)               262656    \n",
            "                                                                 \n",
            " dense_1 (Dense)             multiple                  513       \n",
            "                                                                 \n",
            "=================================================================\n",
            "Total params: 2,260,863\n",
            "Trainable params: 2,260,863\n",
            "Non-trainable params: 0\n",
            "_________________________________________________________________\n"
          ]
        }
      ]
    },
    {
      "cell_type": "code",
      "execution_count": null,
      "metadata": {
        "id": "8nHIFG_XXRp4",
        "colab": {
          "base_uri": "https://localhost:8080/"
        },
        "outputId": "0056064f-42e0-40f8-a8c0-57d213da10c2"
      },
      "outputs": [
        {
          "output_type": "stream",
          "name": "stdout",
          "text": [
            "Epoch 1/10\n",
            "973/973 [==============================] - 38s 22ms/step - loss: 0.4840 - mae: 0.1073 - timedelta: 0.1060 - val_loss: 0.0050 - val_mae: 0.0564 - val_timedelta: 0.0596\n",
            "Epoch 2/10\n",
            "973/973 [==============================] - 22s 22ms/step - loss: 0.0046 - mae: 0.0475 - timedelta: 0.0486 - val_loss: 0.0029 - val_mae: 0.0347 - val_timedelta: 0.0385\n",
            "Epoch 3/10\n",
            "973/973 [==============================] - 20s 21ms/step - loss: 0.0039 - mae: 0.0430 - timedelta: 0.0433 - val_loss: 0.0028 - val_mae: 0.0354 - val_timedelta: 0.0380\n",
            "Epoch 4/10\n",
            "973/973 [==============================] - 21s 22ms/step - loss: 0.0034 - mae: 0.0394 - timedelta: 0.0396 - val_loss: 0.0038 - val_mae: 0.0408 - val_timedelta: 0.0451\n",
            "Epoch 5/10\n",
            "973/973 [==============================] - 21s 22ms/step - loss: 0.0031 - mae: 0.0372 - timedelta: 0.0373 - val_loss: 0.0025 - val_mae: 0.0324 - val_timedelta: 0.0348\n",
            "Epoch 6/10\n",
            "973/973 [==============================] - 22s 23ms/step - loss: 0.0029 - mae: 0.0355 - timedelta: 0.0366 - val_loss: 0.0025 - val_mae: 0.0291 - val_timedelta: 0.0326\n",
            "Epoch 7/10\n",
            "973/973 [==============================] - 21s 22ms/step - loss: 0.0028 - mae: 0.0347 - timedelta: 0.0358 - val_loss: 0.0025 - val_mae: 0.0300 - val_timedelta: 0.0329\n",
            "Epoch 8/10\n",
            "973/973 [==============================] - 21s 22ms/step - loss: 0.0464 - mae: 0.0889 - timedelta: 0.0862 - val_loss: 0.0441 - val_mae: 0.1755 - val_timedelta: 0.1689\n",
            "Epoch 9/10\n",
            "973/973 [==============================] - 21s 22ms/step - loss: 0.0207 - mae: 0.1059 - timedelta: 0.1066 - val_loss: 0.0066 - val_mae: 0.0606 - val_timedelta: 0.0567\n",
            "Epoch 10/10\n",
            "973/973 [==============================] - 21s 21ms/step - loss: 0.0148 - mae: 0.0800 - timedelta: 0.0834 - val_loss: 0.0058 - val_mae: 0.0557 - val_timedelta: 0.0536\n"
          ]
        }
      ],
      "source": [
        "from dlomix.eval.rt_eval import TimeDeltaMetric\n",
        "import tensorflow as tf\n",
        "# Compiling the keras model with loss function, metrics and optimizer\n",
        "model.compile(loss='mse', metrics=['mae', TimeDeltaMetric()], optimizer=tf.keras.optimizers.Adam(learning_rate=0.005))\n",
        "# Train the model\n",
        "history = model.fit(x=train_input, epochs=epochs, batch_size=batch_size, validation_data=val_input)"
      ]
    },
    {
      "cell_type": "code",
      "source": [
        "import matplotlib.pyplot as plt\n",
        "# Plotting the training history \n",
        "plt.plot(range(epochs), history.history['loss'], '-', color='r', label='Training loss')\n",
        "plt.plot(range(epochs), history.history['val_loss'], '--', color='r', label='Validation loss')\n",
        "plt.title(f'Training and validation loss across epochs')\n",
        "plt.xlabel('Epochs')\n",
        "plt.ylabel('Loss')\n",
        "plt.legend()\n",
        "plt.show()"
      ],
      "metadata": {
        "id": "W_5_nipgkSZ0",
        "colab": {
          "base_uri": "https://localhost:8080/"
        },
        "outputId": "b8d2e25f-b160-41f1-a80b-9383fe38732a"
      },
      "execution_count": null,
      "outputs": [
        {
          "output_type": "display_data",
          "data": {
            "text/plain": [
              "<Figure size 432x288 with 1 Axes>"
            ],
            "image/png": "[encoded data removed]"
          },
          "metadata": {
            "needs_background": "light"
          }
        }
      ]
    },
    {
      "cell_type": "code",
      "source": [
        "# Initially we trained on just one gradient, to transfer this model to external datasets, \n",
        "# we refine the model by using the model we just trained as a pre-trained model, and then further train it with the test/external dataset\n",
        "history = model.fit(x=test_input, epochs=epochs, batch_size=batch_size)\n",
        "# The model can now be used for other datasets with the same gradient set-up\n",
        "# We then plot the history of this model, and see the initial performance is much better, \n",
        "# as the model already has some gradient agnostic knowledge, and it simply has to learn the new gradients\n",
        "plt.plot(range(epochs), history.history['loss'], '-', color='r', label='Training loss')\n",
        "plt.title(f'Training and validation loss of the refined model')\n",
        "plt.xlabel('Epochs')\n",
        "plt.ylabel('Loss')\n",
        "plt.legend()\n",
        "plt.show()"
      ],
      "metadata": {
        "colab": {
          "base_uri": "https://localhost:8080/"
        },
        "id": "Nb1ECgqPZm1R",
        "outputId": "57e1a22f-7e56-4f4d-e918-9c566cd79fd0"
      },
      "execution_count": null,
      "outputs": [
        {
          "output_type": "stream",
          "name": "stdout",
          "text": [
            "Epoch 1/10\n",
            "306/306 [==============================] - 6s 19ms/step - loss: 0.0148 - mae: 0.0789 - timedelta: 0.0762\n",
            "Epoch 2/10\n",
            "306/306 [==============================] - 6s 19ms/step - loss: 0.0148 - mae: 0.0767 - timedelta: 0.0743\n",
            "Epoch 3/10\n",
            "306/306 [==============================] - 6s 19ms/step - loss: 0.0148 - mae: 0.0764 - timedelta: 0.0763\n",
            "Epoch 4/10\n",
            "306/306 [==============================] - 6s 19ms/step - loss: 0.0148 - mae: 0.0760 - timedelta: 0.0679\n",
            "Epoch 5/10\n",
            "306/306 [==============================] - 6s 19ms/step - loss: 0.0148 - mae: 0.0743 - timedelta: 0.0671\n",
            "Epoch 6/10\n",
            "306/306 [==============================] - 6s 20ms/step - loss: 0.0148 - mae: 0.0751 - timedelta: 0.0684\n",
            "Epoch 7/10\n",
            "306/306 [==============================] - 6s 19ms/step - loss: 0.0144 - mae: 0.0730 - timedelta: 0.0710\n",
            "Epoch 8/10\n",
            "306/306 [==============================] - 6s 19ms/step - loss: 0.0142 - mae: 0.0728 - timedelta: 0.0654\n",
            "Epoch 9/10\n",
            "306/306 [==============================] - 6s 19ms/step - loss: 0.0145 - mae: 0.0729 - timedelta: 0.0701\n",
            "Epoch 10/10\n",
            "306/306 [==============================] - 6s 19ms/step - loss: 0.0143 - mae: 0.0736 - timedelta: 0.0644\n"
          ]
        },
        {
          "output_type": "display_data",
          "data": {
            "text/plain": [
              "<Figure size 432x288 with 1 Axes>"
            ],
            "image/png": "[encoded data removed]"
          },
          "metadata": {
            "needs_background": "light"
          }
        }
      ]
    }
  ]
}